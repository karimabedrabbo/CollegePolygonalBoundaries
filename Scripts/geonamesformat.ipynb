{
 "cells": [
  {
   "cell_type": "code",
   "execution_count": 1,
   "metadata": {},
   "outputs": [
    {
     "name": "stdout",
     "output_type": "stream",
     "text": [
      "771085\n",
      "1616823\n",
      "2416077\n",
      "3192792\n",
      "4081397\n",
      "4814728\n",
      "5539221\n",
      "6331799\n",
      "7214216\n",
      "8051621\n",
      "8769388\n",
      "9437751\n",
      "10192093\n",
      "10951708\n",
      "11669534\n",
      "11857305\n"
     ]
    }
   ],
   "source": [
    "fout=open(\"out.csv\",\"a\")\n",
    "count = 0\n",
    "for num in range(1,17):\n",
    "    for line in open(\"allCountries_\"+str(num)+\".csv\"):\n",
    "        fout.write(line)\n",
    "        count += 1\n",
    "    fout.write('\\n')\n",
    "    print(count)\n",
    "fout.close()\n"
   ]
  },
  {
   "cell_type": "code",
   "execution_count": null,
   "metadata": {},
   "outputs": [],
   "source": [
    "fout=open(\"out.csv\",\"a\")\n",
    "for i in range(1,17): \n",
    "    with open('allCountries' + str(i) + '.csv', 'r') as read_file:\n",
    "        for index, line in enumerate(read_file):   \n",
    "            if index < 3:\n",
    "                print(read_file)\n",
    "                \n",
    "            else:\n",
    "                return"
   ]
  },
  {
   "cell_type": "code",
   "execution_count": 1,
   "metadata": {},
   "outputs": [],
   "source": [
    "import pandas as pd"
   ]
  },
  {
   "cell_type": "code",
   "execution_count": 49,
   "metadata": {},
   "outputs": [],
   "source": [
    "def readstuff():\n",
    "    csvlist = []\n",
    "    for i in range(1,17):\n",
    "        csvlist.append(pd.read_csv('allCountries_' + str(i) + '.csv'))\n",
    "    return csvlist"
   ]
  },
  {
   "cell_type": "code",
   "execution_count": 50,
   "metadata": {},
   "outputs": [
    {
     "name": "stderr",
     "output_type": "stream",
     "text": [
      "/Library/Frameworks/Python.framework/Versions/3.7/lib/python3.7/site-packages/IPython/core/interactiveshell.py:3185: DtypeWarning: Columns (9,10,11,12) have mixed types. Specify dtype option on import or set low_memory=False.\n",
      "  if (yield from self.run_code(code, result)):\n",
      "/Library/Frameworks/Python.framework/Versions/3.7/lib/python3.7/site-packages/IPython/core/interactiveshell.py:3185: DtypeWarning: Columns (9,10,11,13) have mixed types. Specify dtype option on import or set low_memory=False.\n",
      "  if (yield from self.run_code(code, result)):\n",
      "/Library/Frameworks/Python.framework/Versions/3.7/lib/python3.7/site-packages/IPython/core/interactiveshell.py:3185: DtypeWarning: Columns (9,10,11) have mixed types. Specify dtype option on import or set low_memory=False.\n",
      "  if (yield from self.run_code(code, result)):\n",
      "/Library/Frameworks/Python.framework/Versions/3.7/lib/python3.7/site-packages/IPython/core/interactiveshell.py:3185: DtypeWarning: Columns (10,11,12,13) have mixed types. Specify dtype option on import or set low_memory=False.\n",
      "  if (yield from self.run_code(code, result)):\n",
      "/Library/Frameworks/Python.framework/Versions/3.7/lib/python3.7/site-packages/IPython/core/interactiveshell.py:3185: DtypeWarning: Columns (9,10,11,12,13) have mixed types. Specify dtype option on import or set low_memory=False.\n",
      "  if (yield from self.run_code(code, result)):\n",
      "/Library/Frameworks/Python.framework/Versions/3.7/lib/python3.7/site-packages/IPython/core/interactiveshell.py:3185: DtypeWarning: Columns (9,11) have mixed types. Specify dtype option on import or set low_memory=False.\n",
      "  if (yield from self.run_code(code, result)):\n",
      "/Library/Frameworks/Python.framework/Versions/3.7/lib/python3.7/site-packages/IPython/core/interactiveshell.py:3185: DtypeWarning: Columns (9) have mixed types. Specify dtype option on import or set low_memory=False.\n",
      "  if (yield from self.run_code(code, result)):\n",
      "/Library/Frameworks/Python.framework/Versions/3.7/lib/python3.7/site-packages/IPython/core/interactiveshell.py:3185: DtypeWarning: Columns (10,11,12) have mixed types. Specify dtype option on import or set low_memory=False.\n",
      "  if (yield from self.run_code(code, result)):\n"
     ]
    }
   ],
   "source": [
    "csvlist = readstuff()"
   ]
  },
  {
   "cell_type": "code",
   "execution_count": 52,
   "metadata": {},
   "outputs": [],
   "source": [
    "combined_csv = pd.concat(csvlist, sort=False)\n",
    "\n"
   ]
  },
  {
   "cell_type": "code",
   "execution_count": 53,
   "metadata": {},
   "outputs": [],
   "source": [
    "combined_csv.to_csv(\"out2.csv\", index=False)"
   ]
  },
  {
   "cell_type": "code",
   "execution_count": 1,
   "metadata": {},
   "outputs": [],
   "source": [
    "import pandas as pd"
   ]
  },
  {
   "cell_type": "code",
   "execution_count": 2,
   "metadata": {},
   "outputs": [
    {
     "name": "stderr",
     "output_type": "stream",
     "text": [
      "/Library/Frameworks/Python.framework/Versions/3.7/lib/python3.7/site-packages/IPython/core/interactiveshell.py:3020: DtypeWarning: Columns (9,10,11,12,13) have mixed types. Specify dtype option on import or set low_memory=False.\n",
      "  interactivity=interactivity, compiler=compiler, result=result)\n"
     ]
    }
   ],
   "source": [
    "abc = pd.read_csv('out.csv', names = [\"geonameid\",\"name\",\"asciiname\",\"alternatenames\",\"latitude\",\"longitude\",\"feature-class\",\"feature-code\",\"country-code\",\"cc2\",\"admin1-code\",\"admin2-code\",\"admin3-code\",\"admin4-code\",\"population\",\"elevation\",\"dem\",\"timezone\",\"modification-date\"])"
   ]
  },
  {
   "cell_type": "code",
   "execution_count": null,
   "metadata": {},
   "outputs": [],
   "source": [
    "abc['feature-code'].str.startswith('SCH')"
   ]
  },
  {
   "cell_type": "code",
   "execution_count": 9,
   "metadata": {},
   "outputs": [],
   "source": [
    "schooloruni = abc[abc['feature-code'].str.startswith('SCH') | abc['feature-code'].str.startswith('UNIV')]"
   ]
  },
  {
   "cell_type": "code",
   "execution_count": null,
   "metadata": {},
   "outputs": [],
   "source": []
  },
  {
   "cell_type": "code",
   "execution_count": 11,
   "metadata": {},
   "outputs": [
    {
     "data": {
      "text/plain": [
       "285424"
      ]
     },
     "execution_count": 11,
     "metadata": {},
     "output_type": "execute_result"
    }
   ],
   "source": [
    "len(schooloruni)"
   ]
  },
  {
   "cell_type": "code",
   "execution_count": null,
   "metadata": {},
   "outputs": [],
   "source": [
    "abc[5000:5200]"
   ]
  },
  {
   "cell_type": "code",
   "execution_count": 1,
   "metadata": {},
   "outputs": [],
   "source": [
    "import csv  \n",
    "import json "
   ]
  },
  {
   "cell_type": "code",
   "execution_count": null,
   "metadata": {
    "scrolled": false
   },
   "outputs": [],
   "source": [
    "# Open the CSV  \n",
    "f = open('out.csv', 'r')  \n",
    "# Change each fieldname to the appropriate field name. I know, so difficult.  \n",
    "reader = csv.DictReader( f, fieldnames = (\"geonameid\",\"name\",\"asciiname\",\"alternatenames\",\"latitude\",\"longitude\",\"feature-class\",\"feature-code\",\"country-code\",\"cc2\",\"admin1-code\",\"admin2-code\",\"admin3-code\",\"admin4-code\",\"population\",\"elevation\",\"dem\",\"timezone\",\"modification-date\"))  \n",
    "# Parse the CSV into JSON  \n",
    "\n",
    "toout = []\n",
    "for index,row in enumerate(reader):\n",
    "    if index % 1000 == 0:\n",
    "        print(index)\n",
    "    if 'SCH' in row['feature-code'] or 'UNI' in row['feature-code']:\n",
    "        toout.append(row) "
   ]
  },
  {
   "cell_type": "code",
   "execution_count": 3,
   "metadata": {},
   "outputs": [
    {
     "data": {
      "text/plain": [
       "140553613"
      ]
     },
     "execution_count": 3,
     "metadata": {},
     "output_type": "execute_result"
    }
   ],
   "source": [
    "out = json.dumps( toout )  \n",
    "# Save the JSON  \n",
    "f = open( 'schoolsanduniv_geonamesv2.json', 'w')  \n",
    "f.write(out) "
   ]
  },
  {
   "cell_type": "code",
   "execution_count": 4,
   "metadata": {},
   "outputs": [
    {
     "data": {
      "text/plain": [
       "285424"
      ]
     },
     "execution_count": 4,
     "metadata": {},
     "output_type": "execute_result"
    }
   ],
   "source": [
    "len(toout)"
   ]
  },
  {
   "cell_type": "code",
   "execution_count": 6,
   "metadata": {},
   "outputs": [
    {
     "data": {
      "text/plain": [
       "'[{\"geonameid\": \"11945546\", \"name\": \"Escola Notra Senyora de Meritxell\", \"asciiname\": \"Escola Notra Senyora de Meritxell\", \"alternatenames\": \"Escola Notra Senyora de Meritxell\", \"latitude\": \"42.49727\", \"longitude\": \"1.4995\", \"feature-class\": \"S\", \"feature-code\": \"SCH\", \"country-code\": \"AD\", \"cc2\": \"\", \"admin1-code\": \"7\", \"admin2-code\": \"\", \"admin3-code\": \"\", \"admin4-code\": \"\", \"population\": \"0\", \"elevation\": \"\", \"dem\": \"992\", \"timezone\": \"Europe/Andorra\", \"modification-date\": \"9/8/18\"}, {\"geonameid\": \"11945553\", \"name\": \"Lyc\\\\u00e9e Comte de Foix\", \"asciiname\": \"Lycee Comte de Foix\", \"alternatenames\": \"Lycee Comte de Foix,Lyc\\\\u00e9e Comte de Foix\", \"latitude\": \"42.50321\", \"longitude\": \"1.51453\", \"feature-class\": \"S\", \"feature-code\": \"SCH\", \"country-code\": \"AD\", \"cc2\": \"\", \"admin1-code\": \"7\", \"admin2-code\": \"\", \"admin3-code\": \"\", \"admin4-code\": \"\", \"population\": \"0\", \"elevation\": \"\", \"dem\": \"1011\", \"timezone\": \"Europe/Andorra\", \"modification-date\": \"9/8/18\"}, {\"geonameid\": \"8019403\", \"nam'"
      ]
     },
     "execution_count": 6,
     "metadata": {},
     "output_type": "execute_result"
    }
   ],
   "source": [
    "out[:1000]"
   ]
  },
  {
   "cell_type": "code",
   "execution_count": 2,
   "metadata": {},
   "outputs": [],
   "source": [
    "import json"
   ]
  },
  {
   "cell_type": "code",
   "execution_count": 3,
   "metadata": {},
   "outputs": [],
   "source": [
    "with open('schoolsanduniv_geonames.json', 'r') as read_file:\n",
    "    newschools = json.load(read_file)"
   ]
  },
  {
   "cell_type": "code",
   "execution_count": 8,
   "metadata": {},
   "outputs": [
    {
     "name": "stdout",
     "output_type": "stream",
     "text": [
      "{'geonameid': '5340259', 'name': 'University of California - Santa Cruz Campus', 'asciiname': 'University of California - Santa Cruz Campus', 'alternatenames': 'Cowell College,University of California - Santa Cruz,University of California - Santa Cruz Campus', 'latitude': '36.99514', 'longitude': '-122.05295', 'feature-class': 'S', 'feature-code': 'SCH', 'country-code': 'US', 'cc2': '', 'admin1-code': 'CA', 'admin2-code': '87', 'admin3-code': '', 'admin4-code': '', 'population': '0', 'elevation': '202', 'dem': '200', 'timezone': 'America/Los_Angeles', 'modification-date': '2/20/10'}\n",
      "{'geonameid': '5343551', 'name': 'Dominican University of California', 'asciiname': 'Dominican University of California', 'alternatenames': 'Dominican College,Dominican College of San Rafael,Dominican University of California', 'latitude': '37.97987', 'longitude': '-122.51352', 'feature-class': 'S', 'feature-code': 'SCH', 'country-code': 'US', 'cc2': '', 'admin1-code': 'CA', 'admin2-code': '41', 'admin3-code': '', 'admin4-code': '', 'population': '0', 'elevation': '26', 'dem': '28', 'timezone': 'America/Los_Angeles', 'modification-date': '12/6/16'}\n",
      "{'geonameid': '5355715', 'name': 'University of California Hastings College of Law', 'asciiname': 'University of California Hastings College of Law', 'alternatenames': 'Hastings College of Law,University of California - Hastings College of the Law,University of California Hastings College of Law,University of California Hastings College of the Law', 'latitude': '37.78106', 'longitude': '-122.41574', 'feature-class': 'S', 'feature-code': 'SCH', 'country-code': 'US', 'cc2': '', 'admin1-code': 'CA', 'admin2-code': '75', 'admin3-code': '', 'admin4-code': '', 'population': '0', 'elevation': '18', 'dem': '25', 'timezone': 'America/Los_Angeles', 'modification-date': '12/7/16'}\n",
      "{'geonameid': '5404870', 'name': 'University of California Agricultural Field', 'asciiname': 'University of California Agricultural Field', 'alternatenames': '', 'latitude': '34.7036', 'longitude': '-118.31008', 'feature-class': 'S', 'feature-code': 'SCH', 'country-code': 'US', 'cc2': '', 'admin1-code': 'CA', 'admin2-code': '37', 'admin3-code': '', 'admin4-code': '', 'population': '0', 'elevation': '753', 'dem': '756', 'timezone': 'America/Los_Angeles', 'modification-date': '1/15/06'}\n",
      "{'geonameid': '5404872', 'name': 'University of California - Davis', 'asciiname': 'University of California - Davis', 'alternatenames': 'College of Agricultural Branch at Davis,Northern Branch of the College of Agriculture University of California,University Farm School,University of California - Davis,University of California Davis', 'latitude': '38.54359', 'longitude': '-121.76247', 'feature-class': 'S', 'feature-code': 'SCH', 'country-code': 'US', 'cc2': '', 'admin1-code': 'CA', 'admin2-code': '113', 'admin3-code': '', 'admin4-code': '', 'population': '0', 'elevation': '17', 'dem': '16', 'timezone': 'America/Los_Angeles', 'modification-date': '12/6/16'}\n",
      "{'geonameid': '5404875', 'name': 'University of California Engineering Field Station', 'asciiname': 'University of California Engineering Field Station', 'alternatenames': 'University of California Engineering Field Station,University of California Richmond Field Station', 'latitude': '37.91742', 'longitude': '-122.33497', 'feature-class': 'S', 'feature-code': 'SCH', 'country-code': 'US', 'cc2': '', 'admin1-code': 'CA', 'admin2-code': '13', 'admin3-code': '', 'admin4-code': '', 'population': '0', 'elevation': '7', 'dem': '9', 'timezone': 'America/Los_Angeles', 'modification-date': '1/15/06'}\n",
      "{'geonameid': '5404876', 'name': 'University of California Experiment Station', 'asciiname': 'University of California Experiment Station', 'alternatenames': 'University of California Citrus Experiment Station,University of California Experiment Station', 'latitude': '33.96446', 'longitude': '-117.33643', 'feature-class': 'S', 'feature-code': 'SCH', 'country-code': 'US', 'cc2': '', 'admin1-code': 'CA', 'admin2-code': '65', 'admin3-code': '', 'admin4-code': '', 'population': '0', 'elevation': '313', 'dem': '315', 'timezone': 'America/Los_Angeles', 'modification-date': '1/15/06'}\n",
      "{'geonameid': '5404877', 'name': 'University of California Extension', 'asciiname': 'University of California Extension', 'alternatenames': '', 'latitude': '32.7395', 'longitude': '-117.15003', 'feature-class': 'S', 'feature-code': 'SCH', 'country-code': 'US', 'cc2': '', 'admin1-code': 'CA', 'admin2-code': '73', 'admin3-code': '', 'admin4-code': '', 'population': '0', 'elevation': '91', 'dem': '91', 'timezone': 'America/Los_Angeles', 'modification-date': '1/15/06'}\n",
      "{'geonameid': '5404878', 'name': 'University of California Extension Center', 'asciiname': 'University of California Extension Center', 'alternatenames': '', 'latitude': '37.77215', 'longitude': '-122.42664', 'feature-class': 'S', 'feature-code': 'SCH', 'country-code': 'US', 'cc2': '', 'admin1-code': 'CA', 'admin2-code': '75', 'admin3-code': '', 'admin4-code': '', 'population': '0', 'elevation': '52', 'dem': '55', 'timezone': 'America/Los_Angeles', 'modification-date': '1/15/06'}\n",
      "{'geonameid': '5404880', 'name': 'University of California Imperial Valley Fir', 'asciiname': 'University of California Imperial Valley Fir', 'alternatenames': '', 'latitude': '32.80477', 'longitude': '-115.44721', 'feature-class': 'S', 'feature-code': 'SCH', 'country-code': 'US', 'cc2': '', 'admin1-code': 'CA', 'admin2-code': '25', 'admin3-code': '', 'admin4-code': '', 'population': '0', 'elevation': '-17', 'dem': '-21', 'timezone': 'America/Los_Angeles', 'modification-date': '1/15/06'}\n",
      "{'geonameid': '5404881', 'name': 'University of California Irvine', 'asciiname': 'University of California Irvine', 'alternatenames': 'University of California - Irvine,University of California Irvine', 'latitude': '33.64842', 'longitude': '-117.84098', 'feature-class': 'S', 'feature-code': 'SCH', 'country-code': 'US', 'cc2': '', 'admin1-code': 'CA', 'admin2-code': '59', 'admin3-code': '', 'admin4-code': '', 'population': '0', 'elevation': '23', 'dem': '33', 'timezone': 'America/Los_Angeles', 'modification-date': '12/6/16'}\n",
      "{'geonameid': '5404884', 'name': 'University of California - Los Angeles', 'asciiname': 'University of California - Los Angeles', 'alternatenames': 'UCLA,Universitaet von Kalifornien,University of California Los Angeles,University of California Southern Branch,University of California at Los Angeles,University of California  Los Angeles,Universität von Kalifornien', 'latitude': '34.07062', 'longitude': '-118.44455', 'feature-class': 'S', 'feature-code': 'SCH', 'country-code': 'US', 'cc2': '', 'admin1-code': 'CA', 'admin2-code': '37', 'admin3-code': '', 'admin4-code': '', 'population': '0', 'elevation': '121', 'dem': '130', 'timezone': 'America/Los_Angeles', 'modification-date': '10/7/14'}\n",
      "{'geonameid': '5404887', 'name': 'University of California Marine Laboratory', 'asciiname': 'University of California Marine Laboratory', 'alternatenames': 'Bodega Marine Laboratory,University of California Marine Biological Research Laboratory,University of California Marine Biology Laboratory,University of California Marine Laboratory', 'latitude': '38.31742', 'longitude': '-123.07139', 'feature-class': 'S', 'feature-code': 'SCH', 'country-code': 'US', 'cc2': '', 'admin1-code': 'CA', 'admin2-code': '97', 'admin3-code': '', 'admin4-code': '', 'population': '0', 'elevation': '9', 'dem': '10', 'timezone': 'America/Los_Angeles', 'modification-date': '1/15/06'}\n",
      "{'geonameid': '5404889', 'name': 'University of California - Riverside', 'asciiname': 'University of California - Riverside', 'alternatenames': 'University of California - Riverside,University of California Riverside Campus,University of California  Riverside,University of Riverside', 'latitude': '33.97412', 'longitude': '-117.32773', 'feature-class': 'S', 'feature-code': 'SCH', 'country-code': 'US', 'cc2': '', 'admin1-code': 'CA', 'admin2-code': '65', 'admin3-code': '', 'admin4-code': '', 'population': '0', 'elevation': '325', 'dem': '331', 'timezone': 'America/Los_Angeles', 'modification-date': '7/31/10'}\n",
      "{'geonameid': '5404890', 'name': 'University of California San Diego', 'asciiname': 'University of California San Diego', 'alternatenames': 'University of California - San Diego,University of California San Diego', 'latitude': '32.87699', 'longitude': '-117.24087', 'feature-class': 'S', 'feature-code': 'SCH', 'country-code': 'US', 'cc2': '', 'admin1-code': 'CA', 'admin2-code': '73', 'admin3-code': '', 'admin4-code': '', 'population': '0', 'elevation': '124', 'dem': '132', 'timezone': 'America/Los_Angeles', 'modification-date': '12/6/16'}\n",
      "{'geonameid': '5404893', 'name': 'University of California Santa Barbara Campus', 'asciiname': 'University of California Santa Barbara Campus', 'alternatenames': 'Anna S C Blake Manual Training School,Santa Barbara College,Santa Barbara College of the University of California,Santa Barbara Normal School,Santa Barbara Normal School of Manual Arts and Home Economics,Santa Barbara State College,Santa Barbara State Normal School,Santa Barbara State Normal School of Manual Arts and Home Economics,Santa Barbara State Teachers College,UCSB,University of California - Santa Barbara,University of California Santa Barbara,University of California at Santa Barbara', 'latitude': '34.4134', 'longitude': '-119.84714', 'feature-class': 'S', 'feature-code': 'SCH', 'country-code': 'US', 'cc2': '', 'admin1-code': 'CA', 'admin2-code': '83', 'admin3-code': '', 'admin4-code': '', 'population': '0', 'elevation': '14', 'dem': '25', 'timezone': 'America/Los_Angeles', 'modification-date': '10/7/14'}\n",
      "{'geonameid': '5404894', 'name': 'University of California Santa Clara Extension Facility at Tech Mart', 'asciiname': 'University of California Santa Clara Extension Facility at Tech Mart', 'alternatenames': '', 'latitude': '37.40522', 'longitude': '-121.97718', 'feature-class': 'S', 'feature-code': 'SCH', 'country-code': 'US', 'cc2': '', 'admin1-code': 'CA', 'admin2-code': '85', 'admin3-code': '', 'admin4-code': '', 'population': '0', 'elevation': '4', 'dem': '4', 'timezone': 'America/Los_Angeles', 'modification-date': '1/15/06'}\n",
      "{'geonameid': '5404897', 'name': 'University of California, Berkeley', 'asciiname': 'University of California, Berkeley', 'alternatenames': 'Cal,College of California,Contra Costa Academy,UC Berkeley,University of California,University of California at Berkeley,University of California  Berkeley,University of California-Berkeley', 'latitude': '37.87215', 'longitude': '-122.25975', 'feature-class': 'S', 'feature-code': 'UNIV', 'country-code': 'US', 'cc2': '', 'admin1-code': 'CA', 'admin2-code': '1', 'admin3-code': '', 'admin4-code': '', 'population': '0', 'elevation': '86', 'dem': '93', 'timezone': 'America/Los_Angeles', 'modification-date': '9/25/14'}\n",
      "{'geonameid': '5404898', 'name': 'University of California - Merced', 'asciiname': 'University of California - Merced', 'alternatenames': 'Merced College,University of California - Merced,University of California-Merced', 'latitude': '37.36624', 'longitude': '-120.42494', 'feature-class': 'S', 'feature-code': 'SCH', 'country-code': 'US', 'cc2': '', 'admin1-code': 'CA', 'admin2-code': '47', 'admin3-code': '', 'admin4-code': '', 'population': '0', 'elevation': '78', 'dem': '80', 'timezone': 'America/Los_Angeles', 'modification-date': '12/7/16'}\n",
      "{'geonameid': '5404900', 'name': 'University of California Santa Cruz', 'asciiname': 'University of California Santa Cruz', 'alternatenames': '', 'latitude': '36.99745', 'longitude': '-122.05274', 'feature-class': 'S', 'feature-code': 'UNIV', 'country-code': 'US', 'cc2': '', 'admin1-code': 'CA', 'admin2-code': '87', 'admin3-code': '', 'admin4-code': '', 'population': '0', 'elevation': '223', 'dem': '231', 'timezone': 'America/Los_Angeles', 'modification-date': '7/19/18'}\n",
      "{'geonameid': '7156416', 'name': 'University of California - System Administration Central Office', 'asciiname': 'University of California - System Administration Central Office', 'alternatenames': 'University of California - System Administration Central Office,University of California System Administration Central Office', 'latitude': '37.80236', 'longitude': '-122.27137', 'feature-class': 'S', 'feature-code': 'SCH', 'country-code': 'US', 'cc2': '', 'admin1-code': 'CA', 'admin2-code': '1', 'admin3-code': '', 'admin4-code': '', 'population': '0', 'elevation': '13', 'dem': '25', 'timezone': 'America/Los_Angeles', 'modification-date': '1/10/11'}\n",
      "{'geonameid': '7198793', 'name': 'University of California Washington Center', 'asciiname': 'University of California Washington Center', 'alternatenames': '', 'latitude': '38.9065', 'longitude': '-77.0374', 'feature-class': 'S', 'feature-code': 'SCH', 'country-code': 'US', 'cc2': '', 'admin1-code': 'DC', 'admin2-code': '1', 'admin3-code': '', 'admin4-code': '', 'population': '0', 'elevation': '21', 'dem': '31', 'timezone': 'America/New_York', 'modification-date': '2/5/10'}\n",
      "{'geonameid': '7231649', 'name': 'University of California - San Francisco Mount Zion', 'asciiname': 'University of California - San Francisco Mount Zion', 'alternatenames': '', 'latitude': '37.78487', 'longitude': '-122.43939', 'feature-class': 'S', 'feature-code': 'SCH', 'country-code': 'US', 'cc2': '', 'admin1-code': 'CA', 'admin2-code': '75', 'admin3-code': '', 'admin4-code': '', 'population': '0', 'elevation': '43', 'dem': '50', 'timezone': 'America/Los_Angeles', 'modification-date': '2/6/10'}\n",
      "{'geonameid': '7231650', 'name': 'University of California - San Francisco Mission Bay', 'asciiname': 'University of California - San Francisco Mission Bay', 'alternatenames': '', 'latitude': '37.76824', 'longitude': '-122.39142', 'feature-class': 'S', 'feature-code': 'SCH', 'country-code': 'US', 'cc2': '', 'admin1-code': 'CA', 'admin2-code': '75', 'admin3-code': '', 'admin4-code': '', 'population': '0', 'elevation': '4', 'dem': '-1', 'timezone': 'America/Los_Angeles', 'modification-date': '2/6/10'}\n",
      "{'geonameid': '7231651', 'name': 'University of California - San Francisco Laurel Heights', 'asciiname': 'University of California - San Francisco Laurel Heights', 'alternatenames': 'University of California - San Francisco Laurel Heights,University of California  San Francisco', 'latitude': '37.78607', 'longitude': '-122.44826', 'feature-class': 'S', 'feature-code': 'SCH', 'country-code': 'US', 'cc2': '', 'admin1-code': 'CA', 'admin2-code': '75', 'admin3-code': '', 'admin4-code': '', 'population': '0', 'elevation': '94', 'dem': '100', 'timezone': 'America/Los_Angeles', 'modification-date': '4/6/10'}\n",
      "{'geonameid': '7237595', 'name': 'University of California Santa Clara Extension', 'asciiname': 'University of California Santa Clara Extension', 'alternatenames': '', 'latitude': '37.31698', 'longitude': '-122.04852', 'feature-class': 'S', 'feature-code': 'SCH', 'country-code': 'US', 'cc2': '', 'admin1-code': 'CA', 'admin2-code': '85', 'admin3-code': '', 'admin4-code': '', 'population': '0', 'elevation': '99', 'dem': '98', 'timezone': 'America/Los_Angeles', 'modification-date': '2/6/10'}\n",
      "{'geonameid': '7316434', 'name': 'University of California - San Francisco', 'asciiname': 'University of California - San Francisco', 'alternatenames': '', 'latitude': '37.76369', 'longitude': '-122.45831', 'feature-class': 'S', 'feature-code': 'SCH', 'country-code': 'US', 'cc2': '', 'admin1-code': 'CA', 'admin2-code': '75', 'admin3-code': '', 'admin4-code': '', 'population': '0', 'elevation': '112', 'dem': '139', 'timezone': 'America/Los_Angeles', 'modification-date': '4/29/09'}\n",
      "{'geonameid': '11002609', 'name': 'University of California San Francisco (UCSF) School of Dentistry', 'asciiname': 'University of California San Francisco (UCSF) School of Dentistry', 'alternatenames': '', 'latitude': '37.76256', 'longitude': '-122.46112', 'feature-class': 'S', 'feature-code': 'SCH', 'country-code': 'US', 'cc2': '', 'admin1-code': 'CA', 'admin2-code': '75', 'admin3-code': '', 'admin4-code': '', 'population': '0', 'elevation': '', 'dem': '124', 'timezone': 'America/Los_Angeles', 'modification-date': '12/31/15'}\n",
      "{'geonameid': '11776154', 'name': 'University of California', 'asciiname': 'University of California', 'alternatenames': '', 'latitude': '39.00116', 'longitude': '-123.08301', 'feature-class': 'S', 'feature-code': 'UNIV', 'country-code': 'US', 'cc2': '', 'admin1-code': 'CA', 'admin2-code': '45', 'admin3-code': '', 'admin4-code': '', 'population': '0', 'elevation': '', 'dem': '262', 'timezone': 'America/Los_Angeles', 'modification-date': '11/10/17'}\n"
     ]
    }
   ],
   "source": [
    "for element in newschools:\n",
    "    if 'university of california' in element['asciiname'].lower():\n",
    "        print(element)"
   ]
  },
  {
   "cell_type": "code",
   "execution_count": null,
   "metadata": {},
   "outputs": [],
   "source": []
  }
 ],
 "metadata": {
  "kernelspec": {
   "display_name": "Python 3",
   "language": "python",
   "name": "python3"
  },
  "language_info": {
   "codemirror_mode": {
    "name": "ipython",
    "version": 3
   },
   "file_extension": ".py",
   "mimetype": "text/x-python",
   "name": "python",
   "nbconvert_exporter": "python",
   "pygments_lexer": "ipython3",
   "version": "3.7.1"
  }
 },
 "nbformat": 4,
 "nbformat_minor": 2
}

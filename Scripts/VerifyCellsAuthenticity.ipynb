{
 "cells": [
  {
   "cell_type": "code",
   "execution_count": 4,
   "metadata": {},
   "outputs": [],
   "source": [
    "import json\n",
    "import collections\n",
    "import logging as logger\n",
    "import copy\n",
    "from collections import OrderedDict\n"
   ]
  },
  {
   "cell_type": "code",
   "execution_count": 5,
   "metadata": {},
   "outputs": [],
   "source": [
    "logger.basicConfig(format='   %(message)s', level=logger.DEBUG)"
   ]
  },
  {
   "cell_type": "code",
   "execution_count": 6,
   "metadata": {},
   "outputs": [],
   "source": [
    "bounding_school = 'bounding_school.json'\n",
    "bounding_school_parsed = 'bounding_school_parsed.json'\n",
    "bounding_school_parsed_final = 'bounding_school_parsed_final.json'"
   ]
  },
  {
   "cell_type": "code",
   "execution_count": 9,
   "metadata": {},
   "outputs": [],
   "source": [
    "with open(bounding_school, encoding='utf-8') as read_file:\n",
    "    bounding_school_whole = json.load(read_file)"
   ]
  },
  {
   "cell_type": "code",
   "execution_count": 10,
   "metadata": {},
   "outputs": [],
   "source": [
    "with open(bounding_school_parsed, encoding='utf-8') as read_file:\n",
    "    bounding_school_parsed_whole = json.load(read_file)"
   ]
  },
  {
   "cell_type": "code",
   "execution_count": 11,
   "metadata": {},
   "outputs": [],
   "source": [
    "with open(bounding_school_parsed_final, encoding='utf-8') as read_file:\n",
    "    bounding_school_parsed_final_whole = json.load(read_file)"
   ]
  },
  {
   "cell_type": "code",
   "execution_count": 12,
   "metadata": {},
   "outputs": [],
   "source": [
    "def split_json(whole, divided_by=9):\n",
    "    new_json_list = []\n",
    "    templist = []\n",
    "    for i in range(1, len(whole)+1):\n",
    "        el = whole[i - 1]\n",
    "        if i % (len(whole)//divided_by) == 0:\n",
    "            templist.append(el)\n",
    "            new_json_list.append(templist)\n",
    "            templist = []\n",
    "        else:\n",
    "            templist.append(el)\n",
    "    if templist:\n",
    "        new_json_list.append(templist)\n",
    "    return new_json_list"
   ]
  },
  {
   "cell_type": "code",
   "execution_count": 13,
   "metadata": {},
   "outputs": [],
   "source": [
    "bounding_school_list = list(split_json(bounding_school_whole['elements'], 49))\n"
   ]
  },
  {
   "cell_type": "code",
   "execution_count": 14,
   "metadata": {},
   "outputs": [],
   "source": [
    "bounding_school_parsed_list = list(split_json(bounding_school_parsed_whole, 49))\n"
   ]
  },
  {
   "cell_type": "code",
   "execution_count": 15,
   "metadata": {},
   "outputs": [],
   "source": [
    "bounding_school_parsed_final_list = list(split_json(bounding_school_parsed_final_whole, 49))"
   ]
  },
  {
   "cell_type": "code",
   "execution_count": 18,
   "metadata": {},
   "outputs": [
    {
     "data": {
      "text/plain": [
       "50"
      ]
     },
     "execution_count": 18,
     "metadata": {},
     "output_type": "execute_result"
    }
   ],
   "source": [
    "len(bounding_school_parsed_final_list)"
   ]
  },
  {
   "cell_type": "code",
   "execution_count": 19,
   "metadata": {},
   "outputs": [],
   "source": [
    "for i in range(len(bounding_school_list)):\n",
    "    with open(bounding_school[:-5] + '_' + str(i) + '.json', 'w') as write_file:\n",
    "        json.dump(bounding_school_list[i], write_file, indent=4)"
   ]
  },
  {
   "cell_type": "code",
   "execution_count": 20,
   "metadata": {},
   "outputs": [],
   "source": [
    "for i in range(len(bounding_school_parsed_list)):\n",
    "    with open(bounding_school_parsed[:-5] + '_' + str(i) + '.json', 'w') as write_file:\n",
    "        json.dump(bounding_school_parsed_list[i], write_file, indent=4)\n",
    "for i in range(len(bounding_school_parsed_final_list)):\n",
    "    with open(bounding_school_parsed_final[:-5] + '_' + str(i) + '.json', 'w') as write_file:\n",
    "        json.dump(bounding_school_parsed_final_list[i], write_file, indent=4)"
   ]
  },
  {
   "cell_type": "code",
   "execution_count": 27,
   "metadata": {},
   "outputs": [],
   "source": [
    "new_bounds = []\n",
    "for i in range(11):\n",
    "    new_bounds.extend(bounding_school_parsed_list[i])"
   ]
  },
  {
   "cell_type": "code",
   "execution_count": 28,
   "metadata": {},
   "outputs": [],
   "source": [
    "for i in range(len(bounding_school_parsed_whole)):\n",
    "    if bounding_school_parsed_whole[i] != new_bounds[i]:\n",
    "        print(i)\n",
    "        "
   ]
  },
  {
   "cell_type": "code",
   "execution_count": null,
   "metadata": {},
   "outputs": [],
   "source": []
  },
  {
   "cell_type": "code",
   "execution_count": 8,
   "metadata": {},
   "outputs": [
    {
     "name": "stdout",
     "output_type": "stream",
     "text": [
      "0\n"
     ]
    },
    {
     "ename": "UnicodeDecodeError",
     "evalue": "'charmap' codec can't decode byte 0x81 in position 7145: character maps to <undefined>",
     "output_type": "error",
     "traceback": [
      "\u001b[1;31m---------------------------------------------------------------------------\u001b[0m",
      "\u001b[1;31mUnicodeDecodeError\u001b[0m                        Traceback (most recent call last)",
      "\u001b[1;32m<ipython-input-8-27f26669d095>\u001b[0m in \u001b[0;36m<module>\u001b[1;34m()\u001b[0m\n\u001b[0;32m      3\u001b[0m     \u001b[0mprint\u001b[0m\u001b[1;33m(\u001b[0m\u001b[0mi\u001b[0m\u001b[1;33m)\u001b[0m\u001b[1;33m\u001b[0m\u001b[0m\n\u001b[0;32m      4\u001b[0m     \u001b[1;32mwith\u001b[0m \u001b[0mopen\u001b[0m\u001b[1;33m(\u001b[0m\u001b[0mcells_school_path\u001b[0m \u001b[1;33m+\u001b[0m \u001b[0mstr\u001b[0m\u001b[1;33m(\u001b[0m\u001b[0mi\u001b[0m\u001b[1;33m)\u001b[0m \u001b[1;33m+\u001b[0m \u001b[1;34m'.json'\u001b[0m\u001b[1;33m,\u001b[0m \u001b[1;34m'r'\u001b[0m\u001b[1;33m)\u001b[0m \u001b[1;32mas\u001b[0m \u001b[0mread_file\u001b[0m\u001b[1;33m:\u001b[0m\u001b[1;33m\u001b[0m\u001b[0m\n\u001b[1;32m----> 5\u001b[1;33m         \u001b[0mcells_school\u001b[0m\u001b[1;33m.\u001b[0m\u001b[0mappend\u001b[0m\u001b[1;33m(\u001b[0m\u001b[0mjson\u001b[0m\u001b[1;33m.\u001b[0m\u001b[0mload\u001b[0m\u001b[1;33m(\u001b[0m\u001b[0mread_file\u001b[0m\u001b[1;33m,\u001b[0m \u001b[0mencoding\u001b[0m\u001b[1;33m=\u001b[0m\u001b[1;34m'utf-8'\u001b[0m\u001b[1;33m)\u001b[0m\u001b[1;33m)\u001b[0m\u001b[1;33m\u001b[0m\u001b[0m\n\u001b[0m",
      "\u001b[1;32mc:\\users\\karim\\appdata\\local\\programs\\python\\python37\\lib\\json\\__init__.py\u001b[0m in \u001b[0;36mload\u001b[1;34m(fp, cls, object_hook, parse_float, parse_int, parse_constant, object_pairs_hook, **kw)\u001b[0m\n\u001b[0;32m    291\u001b[0m     \u001b[0mkwarg\u001b[0m\u001b[1;33m;\u001b[0m \u001b[0motherwise\u001b[0m\u001b[0;31m \u001b[0m\u001b[0;31m`\u001b[0m\u001b[0;31m`\u001b[0m\u001b[0mJSONDecoder\u001b[0m\u001b[0;31m`\u001b[0m\u001b[0;31m`\u001b[0m \u001b[1;32mis\u001b[0m \u001b[0mused\u001b[0m\u001b[1;33m.\u001b[0m\u001b[1;33m\u001b[0m\u001b[0m\n\u001b[0;32m    292\u001b[0m     \"\"\"\n\u001b[1;32m--> 293\u001b[1;33m     return loads(fp.read(),\n\u001b[0m\u001b[0;32m    294\u001b[0m         \u001b[0mcls\u001b[0m\u001b[1;33m=\u001b[0m\u001b[0mcls\u001b[0m\u001b[1;33m,\u001b[0m \u001b[0mobject_hook\u001b[0m\u001b[1;33m=\u001b[0m\u001b[0mobject_hook\u001b[0m\u001b[1;33m,\u001b[0m\u001b[1;33m\u001b[0m\u001b[0m\n\u001b[0;32m    295\u001b[0m         \u001b[0mparse_float\u001b[0m\u001b[1;33m=\u001b[0m\u001b[0mparse_float\u001b[0m\u001b[1;33m,\u001b[0m \u001b[0mparse_int\u001b[0m\u001b[1;33m=\u001b[0m\u001b[0mparse_int\u001b[0m\u001b[1;33m,\u001b[0m\u001b[1;33m\u001b[0m\u001b[0m\n",
      "\u001b[1;32mc:\\users\\karim\\appdata\\local\\programs\\python\\python37\\lib\\encodings\\cp1252.py\u001b[0m in \u001b[0;36mdecode\u001b[1;34m(self, input, final)\u001b[0m\n\u001b[0;32m     21\u001b[0m \u001b[1;32mclass\u001b[0m \u001b[0mIncrementalDecoder\u001b[0m\u001b[1;33m(\u001b[0m\u001b[0mcodecs\u001b[0m\u001b[1;33m.\u001b[0m\u001b[0mIncrementalDecoder\u001b[0m\u001b[1;33m)\u001b[0m\u001b[1;33m:\u001b[0m\u001b[1;33m\u001b[0m\u001b[0m\n\u001b[0;32m     22\u001b[0m     \u001b[1;32mdef\u001b[0m \u001b[0mdecode\u001b[0m\u001b[1;33m(\u001b[0m\u001b[0mself\u001b[0m\u001b[1;33m,\u001b[0m \u001b[0minput\u001b[0m\u001b[1;33m,\u001b[0m \u001b[0mfinal\u001b[0m\u001b[1;33m=\u001b[0m\u001b[1;32mFalse\u001b[0m\u001b[1;33m)\u001b[0m\u001b[1;33m:\u001b[0m\u001b[1;33m\u001b[0m\u001b[0m\n\u001b[1;32m---> 23\u001b[1;33m         \u001b[1;32mreturn\u001b[0m \u001b[0mcodecs\u001b[0m\u001b[1;33m.\u001b[0m\u001b[0mcharmap_decode\u001b[0m\u001b[1;33m(\u001b[0m\u001b[0minput\u001b[0m\u001b[1;33m,\u001b[0m\u001b[0mself\u001b[0m\u001b[1;33m.\u001b[0m\u001b[0merrors\u001b[0m\u001b[1;33m,\u001b[0m\u001b[0mdecoding_table\u001b[0m\u001b[1;33m)\u001b[0m\u001b[1;33m[\u001b[0m\u001b[1;36m0\u001b[0m\u001b[1;33m]\u001b[0m\u001b[1;33m\u001b[0m\u001b[0m\n\u001b[0m\u001b[0;32m     24\u001b[0m \u001b[1;33m\u001b[0m\u001b[0m\n\u001b[0;32m     25\u001b[0m \u001b[1;32mclass\u001b[0m \u001b[0mStreamWriter\u001b[0m\u001b[1;33m(\u001b[0m\u001b[0mCodec\u001b[0m\u001b[1;33m,\u001b[0m\u001b[0mcodecs\u001b[0m\u001b[1;33m.\u001b[0m\u001b[0mStreamWriter\u001b[0m\u001b[1;33m)\u001b[0m\u001b[1;33m:\u001b[0m\u001b[1;33m\u001b[0m\u001b[0m\n",
      "\u001b[1;31mUnicodeDecodeError\u001b[0m: 'charmap' codec can't decode byte 0x81 in position 7145: character maps to <undefined>"
     ]
    }
   ],
   "source": [
    "cells_school = []\n",
    "for i in range(0,1000):\n",
    "    print(i)\n",
    "    with open(cells_school_path + str(i) + '.json', 'r') as read_file:\n",
    "        try:\n",
    "            cells_school.append(json.load(read_file, encoding='utf-8'))\n",
    "        except UnicodeDecodeError as err:\n",
    "            "
   ]
  },
  {
   "cell_type": "code",
   "execution_count": null,
   "metadata": {},
   "outputs": [],
   "source": []
  },
  {
   "cell_type": "code",
   "execution_count": null,
   "metadata": {},
   "outputs": [],
   "source": []
  },
  {
   "cell_type": "code",
   "execution_count": null,
   "metadata": {},
   "outputs": [],
   "source": []
  },
  {
   "cell_type": "code",
   "execution_count": 3,
   "metadata": {},
   "outputs": [],
   "source": [
    "# bounding_university_parsed_path = 'bounding_university_parsed_final.json'\n",
    "# bounding_college_parsed_path = 'bounding_college_parsed_final.json'\n",
    "# bounding_local_parsed_path = 'bounding_local_parsed_final.json'\n",
    "# bad_bounding_university_parsed_path = 'bounding_university_parsed_bad.json'\n",
    "# bad_bounding_college_parsed_path = 'bounding_college_parsed_bad.json'\n",
    "# cells_university_path = 'cells_university.json'\n",
    "# cells_college_path = 'cells_college.json'\n",
    "# cells_local_path = 'cells_local.json'\n",
    "# cells_university_from_bad_path = 'cells_university_bad.json'\n",
    "# cells_college_from_bad_path = 'cells_college_bad.json'"
   ]
  },
  {
   "cell_type": "code",
   "execution_count": 4,
   "metadata": {},
   "outputs": [],
   "source": [
    "# with open(bounding_university_parsed_path, 'r') as read_file:\n",
    "#     bounding_university = json.load(read_file)\n",
    "# with open(bounding_college_parsed_path, 'r') as read_file:\n",
    "#     bounding_college = json.load(read_file)\n",
    "# with open(bounding_local_parsed_path, 'r') as read_file:\n",
    "#     bounding_local = json.load(read_file)\n",
    "# with open(bad_bounding_university_parsed_path, 'r') as read_file:\n",
    "#     bad_bounding_university = json.load(read_file)\n",
    "# with open(bad_bounding_college_parsed_path, 'r') as read_file:\n",
    "#     bad_bounding_college = json.load(read_file)\n",
    "    \n",
    "# with open(cells_university_path, 'r') as read_file:\n",
    "#     cells_university = json.load(read_file)\n",
    "# with open(cells_college_path, 'r') as read_file:\n",
    "#     cells_college = json.load(read_file)\n",
    "# with open(cells_local_path, 'r') as read_file:\n",
    "#     cells_local = json.load(read_file)\n",
    "# with open(cells_university_from_bad_path, 'r') as read_file:\n",
    "#     cells_university_from_bad = json.load(read_file)\n",
    "# with open(cells_college_from_bad_path, 'r') as read_file:\n",
    "#     cells_college_from_bad = json.load(read_file)"
   ]
  },
  {
   "cell_type": "code",
   "execution_count": 100,
   "metadata": {},
   "outputs": [],
   "source": [
    "def printcells(alist, name):\n",
    "    alist_copy = copy.deepcopy(alist)\n",
    "    for bindex, bound in enumerate(alist_copy):\n",
    "        if name in bound['name']:\n",
    "            logger.debug(bound['name'])\n",
    "            logger.debug(bindex)\n",
    "            logger.debug('cover10s')\n",
    "            if len(bound['cover10s']) > 3:\n",
    "                logger.debug(len(bound['cover10s']))\n",
    "                for cellid in bound['cover10s']:\n",
    "                    logger.debug(cellid + ',')\n",
    "                logger.debug('')\n",
    "                logger.debug('cover16s')\n",
    "                logger.debug(len(bound['cover16s']))\n",
    "                for cellid in bound['cover16s']:\n",
    "                    logger.debug(cellid + ',')\n",
    "                logger.debug('')\n",
    "                logger.debug('cover10to16')\n",
    "                logger.debug(len(bound['cover10to16']))\n",
    "                for cellid in bound['cover10to16']:\n",
    "                    logger.debug(cellid + ',')\n",
    "                logger.debug('')\n",
    "                logger.debug('cover10and11')\n",
    "                logger.debug(len(bound['cover10and11']))\n",
    "                for cellid in bound['cover10and11']:\n",
    "                    logger.debug(cellid + ',')\n",
    "                logger.debug('')\n",
    "                logger.debug('cover11and12')\n",
    "                logger.debug(len(bound['cover11and12']))\n",
    "                for cellid in bound['cover11and12']:\n",
    "                    logger.debug(cellid + ',')\n",
    "                logger.debug('')\n",
    "                logger.debug('cover12and13')\n",
    "                logger.debug(len(bound['cover12and13']))\n",
    "                for cellid in bound['cover12and13']:\n",
    "                    logger.debug(cellid + ',')\n",
    "                logger.debug('')\n",
    "                logger.debug('cover13and14')\n",
    "                logger.debug(len(bound['cover13and14']))\n",
    "                for cellid in bound['cover13and14']:\n",
    "                    logger.debug(cellid + ',')\n",
    "                logger.debug('cover14and15')\n",
    "                logger.debug(len(bound['cover14and15']))\n",
    "                for cellid in bound['cover14and15']:\n",
    "                    logger.debug(cellid + ',')\n",
    "                logger.debug('')\n",
    "                logger.debug('cover15and16')\n",
    "                logger.debug(len(bound['cover15and16']))\n",
    "                for cellid in bound['cover15and16']:\n",
    "                    logger.debug(cellid + ',')\n",
    "                logger.debug('')\n",
    "            "
   ]
  },
  {
   "cell_type": "code",
   "execution_count": 101,
   "metadata": {
    "scrolled": true
   },
   "outputs": [
    {
     "data": {
      "text/plain": [
       "35512"
      ]
     },
     "execution_count": 101,
     "metadata": {},
     "output_type": "execute_result"
    }
   ],
   "source": [
    "len(cells_university)"
   ]
  },
  {
   "cell_type": "code",
   "execution_count": 102,
   "metadata": {},
   "outputs": [
    {
     "data": {
      "text/plain": [
       "30193"
      ]
     },
     "execution_count": 102,
     "metadata": {},
     "output_type": "execute_result"
    }
   ],
   "source": [
    "len(cells_college)"
   ]
  },
  {
   "cell_type": "code",
   "execution_count": 103,
   "metadata": {},
   "outputs": [
    {
     "data": {
      "text/plain": [
       "35518"
      ]
     },
     "execution_count": 103,
     "metadata": {},
     "output_type": "execute_result"
    }
   ],
   "source": [
    "len(bounding_university)"
   ]
  },
  {
   "cell_type": "code",
   "execution_count": 104,
   "metadata": {},
   "outputs": [
    {
     "data": {
      "text/plain": [
       "30194"
      ]
     },
     "execution_count": 104,
     "metadata": {},
     "output_type": "execute_result"
    }
   ],
   "source": [
    "len(bounding_college)"
   ]
  },
  {
   "cell_type": "code",
   "execution_count": 105,
   "metadata": {},
   "outputs": [
    {
     "data": {
      "text/plain": [
       "26"
      ]
     },
     "execution_count": 105,
     "metadata": {},
     "output_type": "execute_result"
    }
   ],
   "source": [
    "len(cells_college_from_bad)"
   ]
  },
  {
   "cell_type": "code",
   "execution_count": 106,
   "metadata": {
    "scrolled": true
   },
   "outputs": [
    {
     "data": {
      "text/plain": [
       "28"
      ]
     },
     "execution_count": 106,
     "metadata": {},
     "output_type": "execute_result"
    }
   ],
   "source": [
    "len(bad_bounding_college)"
   ]
  },
  {
   "cell_type": "code",
   "execution_count": 107,
   "metadata": {},
   "outputs": [
    {
     "data": {
      "text/plain": [
       "51"
      ]
     },
     "execution_count": 107,
     "metadata": {},
     "output_type": "execute_result"
    }
   ],
   "source": [
    "len(cells_university_from_bad)"
   ]
  },
  {
   "cell_type": "code",
   "execution_count": 108,
   "metadata": {
    "scrolled": true
   },
   "outputs": [
    {
     "data": {
      "text/plain": [
       "58"
      ]
     },
     "execution_count": 108,
     "metadata": {},
     "output_type": "execute_result"
    }
   ],
   "source": [
    "len(bad_bounding_university)"
   ]
  },
  {
   "cell_type": "code",
   "execution_count": 110,
   "metadata": {},
   "outputs": [
    {
     "data": {
      "text/plain": [
       "{'name': 'Texas A&M University / Central Texas',\n",
       " 'type': 'way',\n",
       " 'nameisid': False,\n",
       " 'nodelist': [[31.055813, -97.77161],\n",
       "  [31.05211, -97.77146],\n",
       "  [31.052088, -97.78055],\n",
       "  [31.055033, -97.780624],\n",
       "  [31.055813, -97.77161]],\n",
       " 'cover10s': ['86454b'],\n",
       " 'cover16s': ['86454ac64',\n",
       "  '86454ac6f',\n",
       "  '86454ac71',\n",
       "  '86454ac77',\n",
       "  '86454ac7c',\n",
       "  '86454ac84',\n",
       "  '86454ac8c',\n",
       "  '86454ac91',\n",
       "  '86454ac93',\n",
       "  '86454ac97',\n",
       "  '86454ac9c',\n",
       "  '86454aca1',\n",
       "  '86454aca3',\n",
       "  '86454acbd'],\n",
       " 'cover10to16': ['86454ac64',\n",
       "  '86454ac6f',\n",
       "  '86454ac74',\n",
       "  '86454ac7c',\n",
       "  '86454ac9',\n",
       "  '86454aca1',\n",
       "  '86454aca3',\n",
       "  '86454acbd'],\n",
       " 'cover10and11': ['86454ac'],\n",
       " 'cover11and12': ['86454ad'],\n",
       " 'cover12and13': ['86454ac4', '86454acc'],\n",
       " 'cover13and14': ['86454ac7', '86454ac9', '86454acb'],\n",
       " 'cover14and15': ['86454ac7', '86454ac9', '86454aca4', '86454acbc'],\n",
       " 'cover15and16': ['86454ac64',\n",
       "  '86454ac6f',\n",
       "  '86454ac74',\n",
       "  '86454ac7c',\n",
       "  '86454ac9',\n",
       "  '86454aca4',\n",
       "  '86454acbd']}"
      ]
     },
     "execution_count": 110,
     "metadata": {},
     "output_type": "execute_result"
    }
   ],
   "source": [
    "# cells_university[24352]"
   ]
  },
  {
   "cell_type": "code",
   "execution_count": 121,
   "metadata": {
    "scrolled": false
   },
   "outputs": [
    {
     "name": "stderr",
     "output_type": "stream",
     "text": [
      "   RWTH Aachen Hörn/Königshügel\n",
      "   49\n",
      "   cover10s\n",
      "   Institut für Zelluläre und Molekulare Botanik / IZMB\n",
      "   51\n",
      "   cover10s\n",
      "   Womens Studies / Sirow\n",
      "   67\n",
      "   cover10s\n",
      "   Vorklinisches Lehrgebäude/Hörsäle A-E\n",
      "   81\n",
      "   cover10s\n",
      "   Theoretische Institute II/Hörsäle Q-S\n",
      "   82\n",
      "   cover10s\n",
      "   Univerzita Jana Evangelisty Purkyně v Ústí nad Labem - rektorát/Kolej K6\n",
      "   143\n",
      "   cover10s\n",
      "   IUT Techniques de Commercialisation / Génie Thermique\n",
      "   209\n",
      "   cover10s\n",
      "   Klinisches Lehrgebäude/Hörsäle F-N\n",
      "   442\n",
      "   cover10s\n",
      "   Lehrstuhl für Kunststofftechnik / Lehrstuhl für Technische Thermodynamik\n",
      "   722\n",
      "   cover10s\n",
      "   UPV/EHU - Arabako kanpusa / Campús de Álava\n",
      "   1532\n",
      "   cover10s\n",
      "   Laboratorium Bio/Nano\n",
      "   1688\n",
      "   cover10s\n",
      "   Universität Witten/Herdecke Altbau\n",
      "   1725\n",
      "   cover10s\n",
      "   Университет (ЮРГПУ/НПИ)\n",
      "   1852\n",
      "   cover10s\n",
      "   Автодорожный институт/военнаяя кафедра\n",
      "   2094\n",
      "   cover10s\n",
      "   C-3/C-4\n",
      "   2212\n",
      "   cover10s\n",
      "   Centro de Atividades Acadêmicas e Didáticas do ICA/UFMG\n",
      "   2555\n",
      "   cover10s\n",
      "   ХТФ/МТФ УрФУ\n",
      "   3011\n",
      "   cover10s\n",
      "   Dipartimenti di Informatica e Matematica (DIBRIS / DIMA)\n",
      "   3086\n",
      "   cover10s\n",
      "   DESY/HERMES\n",
      "   3107\n",
      "   cover10s\n",
      "   Informatik/Physik (M1)\n",
      "   3395\n",
      "   cover10s\n",
      "   Verfügungsbau Humangenetik / Physik\n",
      "   3398\n",
      "   cover10s\n",
      "   Sprachenzentrum/Hochschulsport\n",
      "   3815\n",
      "   cover10s\n",
      "   Charité-Standort Thielallee/Garystraße\n",
      "   3937\n",
      "   cover10s\n",
      "   Universität für Bodenkultur / Türkenschanze\n",
      "   4005\n",
      "   cover10s\n",
      "   Werkstattgebäude / Bibliothek Islamwissenschaft\n",
      "   4145\n",
      "   cover10s\n",
      "   Institut für Ethnologie / Islamwissenschaft / Beauftragte für Chancengleichheit / Studierendenrat (StuRa) der Uni\n",
      "   4147\n",
      "   cover10s\n",
      "   Institut für Theoretische Physik / Institut für Theoretische Astrophysik\n",
      "   4148\n",
      "   cover10s\n",
      "   IBIO / CCET\n",
      "   4353\n",
      "   cover10s\n",
      "   НовГУ (с/х)\n",
      "   4377\n",
      "   cover10s\n",
      "   USMB Bât.19 - Salles de cours / Lansad\n",
      "   4676\n",
      "   cover10s\n",
      "   Justus-Liebig-Universität Campusbereich Seltersberg/Veterinärmedizin\n",
      "   4777\n",
      "   cover10s\n",
      "   Bakı Mühəndislik Universiteti/Qafqaz Universiteti\n",
      "   4791\n",
      "   cover10s\n",
      "   Fachhochschule Wiener Neustadt / Campus Tulln\n",
      "   4916\n",
      "   cover10s\n",
      "   Student Rec. Center/Esbjornson Gym\n",
      "   5427\n",
      "   cover10s\n",
      "   Logopädenschule/Personalrat (Haus E)\n",
      "   5610\n",
      "   cover10s\n",
      "   Институт Театрального Искусства п/у И.Д. Кобзона\n",
      "   5815\n",
      "   cover10s\n",
      "   Holmes/Hunter Academic Building\n",
      "   5975\n",
      "   cover10s\n",
      "   Gipuzkoako Ingeniaritza Eskola/Escuela de Ingeniería de Gipuzkoa\n",
      "   6101\n",
      "   cover10s\n",
      "   Facultatea de Arte / Drept\n",
      "   6126\n",
      "   cover10s\n",
      "   corp H/G\n",
      "   6148\n",
      "   cover10s\n",
      "   corp G/H\n",
      "   6149\n",
      "   cover10s\n",
      "   Verwaltungsgebäude der HU / Studienberatung der Humboldt-Universität/Kinderladen \"Die Humbolde\"\n",
      "   6185\n",
      "   cover10s\n",
      "   Anorganische/Physikalische Chemie I (AC / PC I)\n",
      "   6509\n",
      "   cover10s\n",
      "   UPV/EHU Campus de Economía y Empresa de Bilbao (Sarriko)\n",
      "   6618\n",
      "   cover10s\n",
      "   Universität Innsbruck, Außenstelle Atrium/ Zentrum für alte Kulturen\n",
      "   6647\n",
      "   cover10s\n",
      "   Casa de las Lenguas / Edificio de servicios múltiples\n",
      "   6715\n",
      "   cover10s\n",
      "   TU Darmstadt / Botanischer Garten\n",
      "   6795\n",
      "   cover10s\n",
      "   Biochemie / Nuklearchemie\n",
      "   7036\n",
      "   cover10s\n",
      "   Academia de Studii Economice a Moldovei (bloc D/E)\n",
      "   7057\n",
      "   cover10s\n",
      "   Heinz Nixdorf Institut / Universität Paderborn\n",
      "   7301\n",
      "   cover10s\n",
      "   Jade Hochschule Wilhelmshaven/Oldenburg/Elsfleth - Studienort Elsfleth\n",
      "   7371\n",
      "   cover10s\n",
      "   Elurreta eraikina / Edificio Las Nieves\n",
      "   7480\n",
      "   cover10s\n",
      "   ШУТИС Хичээлийн 1-р байр / Геологи, Уул уурхайн сургууль/\n",
      "   7603\n",
      "   cover10s\n",
      "   VEDC/PPPPTK\n",
      "   7668\n",
      "   cover10s\n",
      "   Mechanical Engineering / Industrial Engineering\n",
      "   7696\n",
      "   cover10s\n",
      "   Epita/Sup'Biotech\n",
      "   7806\n",
      "   cover10s\n",
      "   EPITA / EPITECH\n",
      "   7927\n",
      "   cover10s\n",
      "   EPITA / EPITECH\n",
      "   7928\n",
      "   cover10s\n",
      "   EPITA / EPITECH\n",
      "   7929\n",
      "   cover10s\n",
      "   Alma/C.O.P.\n",
      "   8044\n",
      "   cover10s\n",
      "   Universität Witten/Herdecke\n",
      "   8255\n",
      "   cover10s\n",
      "   Prymasowskie Wyższe Seminarium Duchowne / Centrum Edukacyjno-Formacyjne\n",
      "   8853\n",
      "   cover10s\n",
      "   Sem. für ev./kath. Theologie\n",
      "   8869\n",
      "   cover10s\n",
      "   معهد التكنولوجيا / بغداد / الزعفرانية\n",
      "   8936\n",
      "   cover10s\n",
      "   Safire / ENSIP (B25)\n",
      "   9121\n",
      "   cover10s\n",
      "   FE/FCT\n",
      "   9406\n",
      "   cover10s\n",
      "   H Zentrale Betriebswerkstatt/ IPT\n",
      "   9463\n",
      "   cover10s\n",
      "   Wellcome Trust/MRC Cambridge Institute for Medical Research (CIMR)\n",
      "   9976\n",
      "   cover10s\n",
      "   Arts/Humanities\n",
      "   10426\n",
      "   cover10s\n",
      "   Universität für Bodenkultur / Türkenschanze\n",
      "   10641\n",
      "   cover10s\n",
      "   OTH Amberg-Weiden Bibliothek/RZ\n",
      "   10686\n",
      "   cover10s\n",
      "   ETS de Náutica y Máquinas Navales (UPV/EHU)\n",
      "   10835\n",
      "   cover10s\n",
      "   Institut für Musikvermittlung und Musikmanagement / KarrierezentrumInstitut MusikergesundheitDetmolder HochbegabtenzentrumProjektbüro SMS - Singen macht SinnSeminarräume Musikwissenschaft\n",
      "   10898\n",
      "   cover10s\n",
      "   HoGent/UGent Campus Schoonmeersen\n",
      "   11128\n",
      "   cover10s\n",
      "   Institut für Jagdkunde der FH Hildesheim/Holzminden\n",
      "   11147\n",
      "   cover10s\n",
      "   Hans-Borst-Zentrum/Rudolf-Pichelmayr-Zentrum\n",
      "   11276\n",
      "   cover10s\n",
      "   Fachhochschule Oberösterreich - Fakultät für Gesundheit/Soziales\n",
      "   11356\n",
      "   cover10s\n",
      "   Universität für Bodenkultur / Institut für Hydrobiologie und Gewässermanagement (IHG)\n",
      "   11519\n",
      "   cover10s\n",
      "   Universität für Bodenkultur / Institut für Forstentomologie, Forstpathologie und Forstschutz (IFFF)\n",
      "   11520\n",
      "   cover10s\n",
      "   CDFI, Holz-/Metallwerkstätte\n",
      "   11698\n",
      "   cover10s\n",
      "   CAHL / UFRB\n",
      "   11766\n",
      "   cover10s\n",
      "   Hochschule Zittau/Görlitz Campus Görlitz\n",
      "   12087\n",
      "   cover10s\n",
      "   Vysoká škola manažmentu / City University of Seattle\n",
      "   12342\n",
      "   cover10s\n",
      "   King's/Domestics Hostel\n",
      "   12671\n",
      "   cover10s\n",
      "   The Wellcome Trust/Cancer Research UK Gurdon Institute\n",
      "   12676\n",
      "   cover10s\n",
      "   Markusstraße 8a (MG1/MG2)\n",
      "   12776\n",
      "   cover10s\n",
      "   Fakulteti Teknik - UP - FIEK / FNA / FIM\n",
      "   12842\n",
      "   cover10s\n",
      "   Silver Street/Mill Lane Site\n",
      "   12876\n",
      "   cover10s\n",
      "   12/13 Mill Lane\n",
      "   12880\n",
      "   cover10s\n",
      "   Fakultät für Informatik / Institut für Publizistik- und Kommunikationswissenschaft der Universität Wien\n",
      "   13227\n",
      "   cover10s\n",
      "   Faculdade IPESU / RAREC\n",
      "   13302\n",
      "   cover10s\n",
      "   Hans-Borst-Zentrum/Rudolf-Pichelmayr-Zentrum\n",
      "   13346\n",
      "   cover10s\n",
      "   Colegiul Pedagogic \"Alexei Mateevici\" / Institutul de Relații Internaționale din Moldova (IRIM)\n",
      "   13350\n",
      "   cover10s\n",
      "   refeitório/bar/restaurante\n",
      "   13406\n",
      "   cover10s\n",
      "   Universität für Bodenkultur Wien / Standort Tulln\n",
      "   13532\n",
      "   cover10s\n",
      "   Hutchison/MRC Research Centre\n",
      "   14047\n",
      "   cover10s\n",
      "   N360 / 370\n",
      "   14322\n",
      "   cover10s\n",
      "   b.i.b./FHDW Gebäude F\n",
      "   14411\n",
      "   cover10s\n",
      "   Prodi Perikanan/Faperta\n",
      "   14497\n",
      "   cover10s\n",
      "   Lab. Teknik Sipil/FST\n",
      "   14498\n",
      "   cover10s\n",
      "   Prodi Teknik Sipil/FST\n",
      "   14499\n",
      "   cover10s\n",
      "   Lab. Teknik Elektro/FST\n",
      "   14507\n",
      "   cover10s\n",
      "   Lab. Pertambangan/FST\n",
      "   14508\n",
      "   cover10s\n",
      "   Prodi Teknik Elektro/FST\n",
      "   14510\n",
      "   cover10s\n",
      "   ECE/ EE/ CSE department (NERIST)\n",
      "   14525\n",
      "   cover10s\n",
      "   UNZA School of Engineering/ Department of Geomatic Engineering\n",
      "   15293\n",
      "   cover10s\n",
      "   Oulun Pelikampus / Oulu Game LAB\n",
      "   15362\n",
      "   cover10s\n",
      "   Institut für Sozialpsychiatrie/Community Medicine\n",
      "   15583\n",
      "   cover10s\n",
      "   Rēzeknes augstskolas informāciju tehnoloģiju centrs / ITC\n",
      "   15775\n",
      "   cover10s\n",
      "   Informatika Fakultatea UPV/EHU\n",
      "   16157\n",
      "   cover10s\n",
      "   UPV/EHU Campus tecnológico-industrial de Bilbao\n",
      "   16167\n",
      "   cover10s\n",
      "   Girls School/college\n",
      "   16620\n",
      "   cover10s\n",
      "   SUP/SUAIO\n",
      "   16739\n",
      "   cover10s\n",
      "   CeDInt/CeSViMa\n",
      "   16741\n",
      "   cover10s\n",
      "   Espaço Administrativo - CAHL / UFRB\n",
      "   16880\n",
      "   cover10s\n",
      "   RISEBA Arhitektūras un dizaina fakultāte / Mediju un komunikācijas fakultāte\n",
      "   16903\n",
      "   cover10s\n",
      "   Hochschule Landshut / Hochschule für angewandte Wissenschaften\n",
      "   16987\n",
      "   cover10s\n",
      "   University of Iowa Research Park/Oakdale\n",
      "   17154\n",
      "   cover10s\n",
      "   POLTEK Kesehatan Makassar Jurutan Fisioterapi/Gizi\n",
      "   17567\n",
      "   cover10s\n",
      "   POLTEK Kesehatan Makassar Jurutan Fisioterapi/Gizi\n",
      "   17568\n",
      "   cover10s\n",
      "   POLTEK Kesehatan Makassar Jurutan Fisioterapi/Gizi\n",
      "   17569\n",
      "   cover10s\n",
      "   POLTEK Kesehatan Makassar Jurutan Fisioterapi/Gizi\n",
      "   17570\n",
      "   cover10s\n",
      "   POLTEK Kesehatan Makassar Jurutan Fisioterapi/Gizi\n",
      "   17571\n",
      "   cover10s\n",
      "   POLTEK Kesehatan Makassar Jurutan Fisioterapi/Gizi\n",
      "   17572\n",
      "   cover10s\n",
      "   POLTEK Kesehatan Makassar Jurutan Fisioterapi/Gizi\n",
      "   17573\n",
      "   cover10s\n",
      "   POLTEK Kesehatan Makassar Jurutan Fisioterapi/Gizi\n"
     ]
    },
    {
     "name": "stderr",
     "output_type": "stream",
     "text": [
      "   17574\n",
      "   cover10s\n",
      "   POLTEK Kesehatan Makassar Jurutan Fisioterapi/Gizi\n",
      "   17575\n",
      "   cover10s\n",
      "   POLTEK Kesehatan Makassar Jurutan Fisioterapi/Gizi\n",
      "   17576\n",
      "   cover10s\n",
      "   POLTEK Kesehatan Makassar Jurutan Fisioterapi/Gizi\n",
      "   17577\n",
      "   cover10s\n",
      "   POLTEK Kesehatan Makassar Jurutan Fisioterapi/Gizi\n",
      "   17578\n",
      "   cover10s\n",
      "   POLTEK Kesehatan Makassar Jurutan Fisioterapi/Gizi\n",
      "   17579\n",
      "   cover10s\n",
      "   POLTEK Kesehatan Makassar Jurutan Fisioterapi/Gizi\n",
      "   17580\n",
      "   cover10s\n",
      "   POLTEK Kesehatan Makassar Jurutan Fisioterapi/Gizi\n",
      "   17581\n",
      "   cover10s\n",
      "   Hochschule Zittau/Görlitz GIII\n",
      "   17742\n",
      "   cover10s\n",
      "   Université McGill (Campus Macdonald)/CÉGEP John Abbott\n",
      "   17783\n",
      "   cover10s\n",
      "   IFPB - Campus Princesa Isabel/PB\n",
      "   18332\n",
      "   cover10s\n",
      "   IFPB - Campus Princesa Isabel/PB II\n",
      "   18333\n",
      "   cover10s\n",
      "   Universidade Federal da Paraíba/CAVN\n",
      "   18340\n",
      "   cover10s\n",
      "   Fachhochschule des Bundes für öffentliche Verwaltung / Fachbereich Öffentliche Sicherheit / Abt. Bundesnachrichtendienst\n",
      "   18788\n",
      "   cover10s\n",
      "   S3 - Concessions / Restrooms\n",
      "   19330\n",
      "   cover10s\n",
      "   South/North Hall of UB\n",
      "   19441\n",
      "   cover10s\n",
      "   Hochschule Emden/Leer Fachbereich Seefahrt\n",
      "   19950\n",
      "   cover10s\n",
      "   Instituto de Arquitectura, Diseño y Arte (IADA) Instituto de Ingeniería y Tecnología (IIT) / UACJ\n",
      "   20202\n",
      "   cover10s\n",
      "   FOP - Faculdade de Odontologia de Pernambuco/UPE\n",
      "   20414\n",
      "   cover10s\n",
      "   Campus de Saúde da Universidade do Porto (Faculdade de Farmácia / Instituto de Ciências Biomédicas Abel Salazar)\n",
      "   20529\n",
      "   cover10s\n",
      "   Gasteizko Erizaintzako Unibertsitate-Eskola/Escuela Universitaria de Enfermería de Vitoria\n",
      "   20565\n",
      "   cover10s\n",
      "   Freie Universität Bozen - Libera Università di Bolzano - Free University of Bozen/Bolzano\n",
      "   20642\n",
      "   cover10s\n",
      "   Technikum 1 / Neue Materialien Fürth (ZMP)\n",
      "   20943\n",
      "   cover10s\n",
      "   Biochemie/Aktivlabor\n",
      "   20998\n",
      "   cover10s\n",
      "   جامعة أكتوبر للعلوم الحديثة والآداب. / نوال الدجوي\n",
      "   21066\n",
      "   cover10s\n",
      "   Heilpädagogik / Universität zu Köln - Klosterstraße\n",
      "   21070\n",
      "   cover10s\n",
      "   Sozialpolitik/Wohnungsrecht Institut für Ostrecht\n",
      "   21071\n",
      "   cover10s\n",
      "   FB 7 / Verwaltung\n",
      "   21233\n",
      "   cover10s\n",
      "   Institut für Wirtschaftspolitik / Pohlighaus\n",
      "   21398\n",
      "   cover10s\n",
      "   Fielding L. Wright Art Center/Holcombe-Norwood Hall\n",
      "   21409\n",
      "   cover10s\n",
      "   James W. Broom Hall/ Kathryn Keener Hall\n",
      "   21504\n",
      "   cover10s\n",
      "   Site Ampère / Ensimag / Grenoble INP\n",
      "   22015\n",
      "   cover10s\n",
      "   Universitäts- und Landessportzentrum Salzburg/Rif\n",
      "   22208\n",
      "   cover10s\n",
      "   Trigon / Donders Institute for Brain, Cognition and Behaviour\n",
      "   22304\n",
      "   cover10s\n",
      "   Faculty of Computer Science & Information Technology/Centre for Information Technology\n",
      "   22536\n",
      "   cover10s\n",
      "   HAWK - Hochschule Hildesheim/Holzminden/Göttingen - Fakultät [n] Naturwissenschaften und Technik\n",
      "   22753\n",
      "   cover10s\n",
      "   Casa V / Casa VI\n",
      "   23787\n",
      "   cover10s\n",
      "   Casa I / Casa II\n",
      "   23788\n",
      "   cover10s\n",
      "   Casa III / Casa IV\n",
      "   23789\n",
      "   cover10s\n",
      "   Casa XII / Casa XIII\n",
      "   23790\n",
      "   cover10s\n",
      "   Casa XVIII / Casa XIX / Casa XX\n",
      "   23793\n",
      "   cover10s\n",
      "   STIE / STIA - SAK\n",
      "   24152\n",
      "   cover10s\n",
      "   Football/Cricket ground\n",
      "   24254\n",
      "   cover10s\n",
      "   Justus-Liebig-Universität Campusbereich Sport/Kugelberg\n",
      "   24296\n",
      "   cover10s\n",
      "   Texas A&M University / Central Texas\n",
      "   24352\n",
      "   cover10s\n",
      "   Pólo de Apoio Presencial – EaD/UAB\n",
      "   25160\n",
      "   cover10s\n",
      "   HAWK/Fraunhofer\n",
      "   25327\n",
      "   cover10s\n",
      "   University of the Commonwealth Caribbean / University College of the Carribbean\n",
      "   26640\n",
      "   cover10s\n",
      "   Faculté de médecine / CHU d'agadir\n",
      "   27191\n",
      "   cover10s\n",
      "   UPV/EHU Campus de Eibar\n",
      "   27267\n",
      "   cover10s\n",
      "   Oulun yliopisto / Kontinkankaan kampus\n",
      "   27296\n",
      "   cover10s\n",
      "   Aviário da Escola de Veterinária e Zootecnia / UFG\n",
      "   27605\n",
      "   cover10s\n",
      "   Latecomer Building/URMC\n",
      "   27671\n",
      "   cover10s\n",
      "   ድሬዳዋ ዩኒቨርሲቲ / Dire Dawa University\n",
      "   27772\n",
      "   cover10s\n",
      "   OTH Amberg-Weiden Fakultät MB/UT\n",
      "   27779\n",
      "   cover10s\n",
      "   Finance Institute / Institute of National Economy\n",
      "   27785\n",
      "   cover10s\n",
      "   Florida Atlantic University /Broward College Davie Campus\n",
      "   27990\n",
      "   cover10s\n",
      "   CEID / ITEL\n",
      "   28647\n",
      "   cover10s\n",
      "   Docencia Multiversa - RIFED/METICS\n",
      "   28672\n",
      "   cover10s\n",
      "   دانشگاه آزاد واحد یادگار امام / شهر ری\n",
      "   29007\n",
      "   cover10s\n",
      "   http://www.umed.edu.al/\n",
      "   29816\n",
      "   cover10s\n",
      "   Centro de Educação Física e Esporte - CEFE / UFBA\n",
      "   30071\n",
      "   cover10s\n",
      "   / Wachemo University\n",
      "   30163\n",
      "   cover10s\n",
      "   ቡሌ ሆራ ዩኒቨርሲቲ / Bule Hora University\n",
      "   30165\n",
      "   cover10s\n",
      "   መደ ወላቡ ዩኒቨርሲቲ / Madda Walabu University\n",
      "   30166\n",
      "   cover10s\n",
      "   Campus de Salazares / Ramalde\n",
      "   30461\n",
      "   cover10s\n",
      "   Leibnitz-Institut für Atmosphärenphysik/Außenstation Juliusruh\n",
      "   30823\n",
      "   cover10s\n",
      "   Faculdade IPESU / FAREC\n",
      "   30977\n",
      "   cover10s\n",
      "   Intramural/Recreation Complex\n",
      "   31263\n",
      "   cover10s\n",
      "   University of Wisconsin-Marshfield/Wood County\n",
      "   31348\n",
      "   cover10s\n",
      "   The North Highland College/University of the Highlands and Islands\n",
      "   31771\n",
      "   cover10s\n",
      "   Justus-Liebig-Universität Campusbereich Seltersberg/Medizin\n",
      "   31987\n",
      "   cover10s\n",
      "   Centro de Cultura, Linguages e Tecnologias Aplicadas (CECULT/UFRB)\n",
      "   32718\n",
      "   cover10s\n",
      "   Indiana Wesleyan University / Hondros College\n",
      "   32870\n",
      "   cover10s\n",
      "   ITEPA / IFIBE\n",
      "   32877\n",
      "   cover10s\n",
      "   Umm Al Qura University / Girls Campus\n",
      "   32950\n",
      "   cover10s\n",
      "   Universidad Estatal de Bolivar/Extensión de Caluma\n",
      "   33808\n",
      "   cover10s\n",
      "   ቡሌ ሆራ ዩኒቨርሲቲ / Bule Hora University\n",
      "   33928\n",
      "   cover10s\n",
      "   Marine Science / Dance\n",
      "   34523\n",
      "   cover10s\n",
      "   Universidade Federal do Amazonas - IEAA/UFAM\n",
      "   34837\n",
      "   cover10s\n",
      "   Universidade Federal do Amazonas - IEAA/UFAM\n",
      "   34838\n",
      "   cover10s\n"
     ]
    }
   ],
   "source": [
    "# printcells(cells_university, '/')"
   ]
  },
  {
   "cell_type": "code",
   "execution_count": 86,
   "metadata": {},
   "outputs": [],
   "source": [
    "import s2sphere as s2"
   ]
  },
  {
   "cell_type": "code",
   "execution_count": 90,
   "metadata": {},
   "outputs": [],
   "source": [
    "test = s2.CellId.from_token('864427e25')"
   ]
  },
  {
   "cell_type": "code",
   "execution_count": 112,
   "metadata": {},
   "outputs": [],
   "source": [
    "def fromtokenstoids(tokenlist):\n",
    "    newtokenlist = []\n",
    "    for token in tokenlist:\n",
    "        newtokenlist.append(s2.CellId.from_token(token))\n",
    "    return newtokenlist"
   ]
  },
  {
   "cell_type": "code",
   "execution_count": 127,
   "metadata": {},
   "outputs": [],
   "source": [
    "newcellunion10 = s2.CellUnion(fromtokenstoids(['86454b']))"
   ]
  },
  {
   "cell_type": "code",
   "execution_count": 128,
   "metadata": {},
   "outputs": [],
   "source": [
    "newcellunionother = s2.CellUnion(fromtokenstoids(['86454ac64',\n",
    "  '86454ac6f',\n",
    "  '86454ac71',\n",
    "  '86454ac77',\n",
    "  '86454ac7c',\n",
    "  '86454ac84',\n",
    "  '86454ac8c',\n",
    "  '86454ac91',\n",
    "  '86454ac93',\n",
    "  '86454ac97',\n",
    "  '86454ac9c',\n",
    "  '86454aca1',\n",
    "  '86454aca3',\n",
    "  '86454acbd']))"
   ]
  },
  {
   "cell_type": "code",
   "execution_count": null,
   "metadata": {},
   "outputs": [],
   "source": [
    "newcellunionother."
   ]
  },
  {
   "cell_type": "code",
   "execution_count": null,
   "metadata": {},
   "outputs": [],
   "source": []
  }
 ],
 "metadata": {
  "kernelspec": {
   "display_name": "Python 3",
   "language": "python",
   "name": "python3"
  },
  "language_info": {
   "codemirror_mode": {
    "name": "ipython",
    "version": 3
   },
   "file_extension": ".py",
   "mimetype": "text/x-python",
   "name": "python",
   "nbconvert_exporter": "python",
   "pygments_lexer": "ipython3",
   "version": "3.7.1"
  }
 },
 "nbformat": 4,
 "nbformat_minor": 2
}

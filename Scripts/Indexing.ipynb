{
 "cells": [
  {
   "cell_type": "code",
   "execution_count": 1,
   "metadata": {},
   "outputs": [],
   "source": [
    "import json\n",
    "from difflib import SequenceMatcher"
   ]
  },
  {
   "cell_type": "code",
   "execution_count": 169,
   "metadata": {},
   "outputs": [],
   "source": [
    "bounding_parent_global_university_updated_parsed = 'bounding_parent_global_university_updated_parsed.json'\n",
    "bounding_parent_global_college_updated_parsed = 'bounding_parent_global_college_updated_parsed.json'\n",
    "bounding_local_parent_updated_parsed = 'bounding_local_parent_updated_parsed.json'\n",
    "indexing_national_parent = 'indexing_national_parent.json'"
   ]
  },
  {
   "cell_type": "code",
   "execution_count": 170,
   "metadata": {},
   "outputs": [],
   "source": [
    "with open(bounding_parent_global_university_updated_parsed, 'r') as read_file:\n",
    "    bounding_universities = json.load(read_file)\n",
    "with open(bounding_parent_global_college_updated_parsed, 'r') as read_file:\n",
    "    bounding_colleges = json.load(read_file)\n",
    "with open(bounding_local_parent_updated_parsed, 'r') as read_file:\n",
    "    bounding_local = json.load(read_file)\n",
    "with open(indexing_national_parent, 'r') as read_file:\n",
    "    indexing_national = json.load(read_file)"
   ]
  },
  {
   "cell_type": "code",
   "execution_count": 7,
   "metadata": {},
   "outputs": [],
   "source": [
    "def check_similar(a, b):\n",
    "    return SequenceMatcher(None, a, b).ratio()"
   ]
  },
  {
   "cell_type": "code",
   "execution_count": 8,
   "metadata": {},
   "outputs": [],
   "source": [
    "def replace_list(a, mapping):\n",
    "    for element in mapping:\n",
    "        a = a.replace(element, mapping[element])\n",
    "    return a"
   ]
  },
  {
   "cell_type": "code",
   "execution_count": 81,
   "metadata": {},
   "outputs": [],
   "source": [
    "def arbitraryflatten(iterable):\n",
    "    iterator, sentinel, stack = iter(iterable), object(), []\n",
    "    while True:\n",
    "        value = next(iterator, sentinel)\n",
    "        if value is sentinel:\n",
    "            if not stack:\n",
    "                break\n",
    "            iterator = stack.pop()\n",
    "        elif isinstance(value, str):\n",
    "            yield value\n",
    "        else:\n",
    "            try:\n",
    "                new_iterator = iter(value)\n",
    "            except TypeError:\n",
    "                yield value\n",
    "            else:\n",
    "                stack.append(iterator)\n",
    "                iterator = new_iterator"
   ]
  },
  {
   "cell_type": "code",
   "execution_count": null,
   "metadata": {},
   "outputs": [],
   "source": [
    "#attempt 1\n",
    "for j, belement in enumerate(bounding):\n",
    "    matched = 0\n",
    "    if 'tags' in belement:\n",
    "        belement_tags = belement['tags']\n",
    "        if 'name' in belement_tags:\n",
    "            normal_bname = belement_tags['name']\n",
    "            lower_bname = str(normal_bname).lower()\n",
    "            if lower_bname == 'national university':\n",
    "                continue\n",
    "            replaced_bname = replace_list(lower_bname, {', ': '-', 'university': '', 'college': ''})\n",
    "            for k, ielement in enumerate(indexing):\n",
    "                #every item has every key\n",
    "                normal_iname = ielement['institution']\n",
    "                lower_iname = str(normal_iname).lower()\n",
    "                replaced_iname = replace_list(lower_iname, {', ': '-', 'university': '', 'college': ''})\n",
    "#                 if matched == 2:\n",
    "#                     print('l')\n",
    "#                     #print(normal_bname + \" : \" +  normal_iname)\n",
    "                if check_similar(replaced_bname, replaced_iname) > 0.98 or replaced_bname in replaced_iname:\n",
    "                    print(normal_bname + \":\" + normal_iname)\n",
    "                    matched +=1\n",
    "                \n",
    "            if matched == 0:\n",
    "                print('')\n",
    "                #print(normal_bname + \" has no match\")\n",
    "                    "
   ]
  },
  {
   "cell_type": "code",
   "execution_count": 26,
   "metadata": {},
   "outputs": [],
   "source": [
    "#1 create s2 covering of all ways in both type == relation and type == ways with mapping\n",
    "#with a mapping to the parent name\n",
    "\n",
    "#2 evaluate if indexing id coordinate location is in the covering\n",
    "\n",
    "#3 if it is in the covering map the indexed name and location coordinates and all other attributes \n",
    "#to a new dictionary with covering boundaries location and covering cells level 10-16\n",
    "\n",
    "#4 print comparison between matched names if names are too far apart"
   ]
  },
  {
   "cell_type": "code",
   "execution_count": null,
   "metadata": {},
   "outputs": [],
   "source": [
    "#if the start or end of the way is the start or end of the next way they connect (including ending way to beginning)\n",
    "#if "
   ]
  }
 ],
 "metadata": {
  "kernelspec": {
   "display_name": "Python 2",
   "language": "python",
   "name": "python2"
  },
  "language_info": {
   "codemirror_mode": {
    "name": "ipython",
    "version": 2
   },
   "file_extension": ".py",
   "mimetype": "text/x-python",
   "name": "python",
   "nbconvert_exporter": "python",
   "pygments_lexer": "ipython2",
   "version": "2.7.15"
  }
 },
 "nbformat": 4,
 "nbformat_minor": 2
}

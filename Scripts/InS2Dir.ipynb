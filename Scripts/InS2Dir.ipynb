{
 "cells": [
  {
   "cell_type": "code",
   "execution_count": 1,
   "metadata": {},
   "outputs": [],
   "source": [
    "import pywraps2 as s2\n",
    "import json\n",
    "import collections\n",
    "import logging as logger\n",
    "import copy\n",
    "from collections import OrderedDict\n",
    "import time\n",
    "import numpy as np\n",
    "%matplotlib notebook\n",
    "import matplotlib.pyplot as plt\n",
    "import pyproj as proj"
   ]
  },
  {
   "cell_type": "code",
   "execution_count": 2,
   "metadata": {},
   "outputs": [],
   "source": [
    "crs_wgs = proj.Proj(init='epsg:4326') # assuming you're using WGS84 geographic\n",
    "crs_bng = proj.Proj(init='epsg:32627') # use a locally appropriate projected CRS"
   ]
  },
  {
   "cell_type": "code",
   "execution_count": null,
   "metadata": {},
   "outputs": [],
   "source": []
  },
  {
   "cell_type": "code",
   "execution_count": 3,
   "metadata": {
    "scrolled": false
   },
   "outputs": [],
   "source": [
    "logger.basicConfig(format='   %(message)s', level=logger.DEBUG)"
   ]
  },
  {
   "cell_type": "code",
   "execution_count": 4,
   "metadata": {},
   "outputs": [],
   "source": [
    "bounding_local_parsed_path = 'bounding_local_parsed_final.json'\n",
    "bounding_university_parsed_path = 'bounding_university_parsed_final.json'\n",
    "bounding_college_parsed_path = 'bounding_college_parsed_final.json'\n",
    "bad_bounding_local_parsed_path = 'bounding_local_parsed_bad.json'\n",
    "bad_bounding_university_parsed_path = 'bounding_university_parsed_bad.json'\n",
    "bad_bounding_college_parsed_path = 'bounding_college_parsed_bad.json'"
   ]
  },
  {
   "cell_type": "code",
   "execution_count": 5,
   "metadata": {},
   "outputs": [],
   "source": [
    "with open(bounding_local_parsed_path, 'r') as read_file:\n",
    "    bounding_local = json.load(read_file)\n",
    "with open(bounding_university_parsed_path, 'r') as read_file:\n",
    "    bounding_university = json.load(read_file)\n",
    "with open(bounding_college_parsed_path, 'r') as read_file:\n",
    "    bounding_college = json.load(read_file)\n",
    "with open(bad_bounding_local_parsed_path, 'r') as read_file:\n",
    "    bad_bounding_local = json.load(read_file)\n",
    "with open(bad_bounding_university_parsed_path, 'r') as read_file:\n",
    "    bad_bounding_university = json.load(read_file)\n",
    "with open(bad_bounding_college_parsed_path, 'r') as read_file:\n",
    "    bad_bounding_college = json.load(read_file)"
   ]
  },
  {
   "cell_type": "code",
   "execution_count": 6,
   "metadata": {},
   "outputs": [],
   "source": [
    "def findname(alist, name):\n",
    "    alist_copy = copy.deepcopy(alist)\n",
    "    for bindex, bound in enumerate(alist_copy):\n",
    "        if bound['name'] == name:\n",
    "            logger.debug(bindex)"
   ]
  },
  {
   "cell_type": "code",
   "execution_count": 7,
   "metadata": {},
   "outputs": [],
   "source": [
    "def findingbadpoints(alist, badlist):\n",
    "    alist_copy = copy.deepcopy(alist)\n",
    "    #startindex = badlist[-1]\n",
    "    startindex = -1\n",
    "    for progindex, bound in enumerate(alist_copy[startindex + 1:]):\n",
    "        logger.debug(progindex + startindex + 1)\n",
    "        if progindex in badlist:\n",
    "            continue\n",
    "        if bound['type'] == 'relation':\n",
    "            for waylist in bound['nodelist']:\n",
    "                while waylist[0] == waylist[-1]:\n",
    "                    waylist.pop(-1)\n",
    "                for pairindex, pair in enumerate(waylist):\n",
    "                    oldlatlng = s2.S2LatLng.FromDegrees(float(pair[0]), float(pair[1]))\n",
    "                    newpoint = oldlatlng.ToPoint().Normalize()\n",
    "                    waylist[pairindex] = newpoint\n",
    "                testpoly_area_original = s2.S2Polygon(s2.S2Loop(waylist)).GetArea()\n",
    "                testpoly_area_reverse = s2.S2Polygon(s2.S2Loop(waylist[::-1])).GetArea()\n",
    "                if testpoly_area_reverse < testpoly_area_original:\n",
    "                    waylist = waylist[::-1]\n",
    "        if bound['type'] == 'way':\n",
    "            waylist = bound['nodelist']\n",
    "            while waylist[0] == waylist[-1]:\n",
    "                waylist.pop(-1)\n",
    "            for pairindex, pair in enumerate(waylist):\n",
    "                oldlatlng = s2.S2LatLng.FromDegrees(float(pair[0]), float(pair[1]))\n",
    "                newpoint = oldlatlng.ToPoint().Normalize()\n",
    "                waylist[pairindex] = newpoint\n",
    "            testpoly_area_original = s2.S2Polygon(s2.S2Loop(waylist)).GetArea()\n",
    "            testpoly_area_reverse = s2.S2Polygon(s2.S2Loop(waylist[::-1])).GetArea()\n",
    "            if testpoly_area_reverse < testpoly_area_original:\n",
    "                waylist = waylist[::-1]\n",
    "    return alist_copy"
   ]
  },
  {
   "cell_type": "code",
   "execution_count": 8,
   "metadata": {},
   "outputs": [],
   "source": [
    "bounding_university_badlist = [514,1296,1378,1812,1917,2285,2411,2435,6110,10645,12401,15141,16536,18674,\n",
    "                              18930,20253,21126,21349,23327,25376,25494,28016,28540,29194,29733,30224,31256,32139,\n",
    "                              32508,32740,32960,33163,33235,35133,35384,35493,35501,35503,35506,35512,35516,35522]\n",
    "bounding_college_badlist = [916,5511,11284,11456,12991,14602,21016,21935,25595,26339,26364,26444,26697,27759,28929,\n",
    "                           29081,30192,30195]\n"
   ]
  },
  {
   "cell_type": "code",
   "execution_count": 9,
   "metadata": {},
   "outputs": [],
   "source": [
    "def filtergoods(alist,badlist):\n",
    "    alist_copy = copy.deepcopy(alist)\n",
    "    bads = []\n",
    "    goods = []\n",
    "    for progindex, bound in enumerate(alist_copy):\n",
    "        if progindex in badlist:\n",
    "            bads.append(bound)\n",
    "        else:\n",
    "            goods.append(bound)\n",
    "    return goods, bads"
   ]
  },
  {
   "cell_type": "code",
   "execution_count": 10,
   "metadata": {},
   "outputs": [],
   "source": [
    "filtered_bounding_university, not_looping_university = filtergoods(bounding_university, bounding_university_badlist)\n",
    "filtered_bounding_college, not_looping_college = filtergoods(bounding_college, bounding_college_badlist)"
   ]
  },
  {
   "cell_type": "code",
   "execution_count": null,
   "metadata": {},
   "outputs": [],
   "source": []
  },
  {
   "cell_type": "code",
   "execution_count": null,
   "metadata": {},
   "outputs": [],
   "source": []
  },
  {
   "cell_type": "code",
   "execution_count": null,
   "metadata": {},
   "outputs": [],
   "source": []
  },
  {
   "cell_type": "code",
   "execution_count": 14,
   "metadata": {},
   "outputs": [],
   "source": [
    "def correctlyorientlist(alist):\n",
    "    alist_copy = copy.deepcopy(alist)\n",
    "    for progindex, bound in enumerate(alist_copy):\n",
    "        #logger.debug(progindex)\n",
    "        if bound['type'] == 'relation':\n",
    "            for windex,waylist in enumerate(bound['nodelist']):\n",
    "                waylistcopy = copy.deepcopy(waylist)\n",
    "                waylisttestcopy = copy.deepcopy(waylist)\n",
    "                while waylisttestcopy[0] == waylisttestcopy[-1]:\n",
    "                    waylisttestcopy.pop(-1)\n",
    "                for pairindex, pair in enumerate(waylisttestcopy):\n",
    "                    oldlatlng = s2.S2LatLng.FromDegrees(float(pair[0]), float(pair[1]))\n",
    "                    newpoint = oldlatlng.ToPoint().Normalize()\n",
    "                    waylisttestcopy[pairindex] = newpoint\n",
    "                testpoly_area_original = s2.S2Polygon(s2.S2Loop(waylisttestcopy)).GetArea()\n",
    "                testpoly_area_reverse = s2.S2Polygon(s2.S2Loop(waylisttestcopy[::-1])).GetArea()\n",
    "                #for some reason its greater than despite the logic being backwards\n",
    "                if testpoly_area_reverse < testpoly_area_original:\n",
    "                    bound['nodelist'][windex] = waylistcopy[::-1]\n",
    "        if bound['type'] == 'way':\n",
    "            waylist = bound['nodelist']\n",
    "            waylistcopy = copy.deepcopy(waylist)\n",
    "            waylisttestcopy = copy.deepcopy(waylist)\n",
    "            while waylisttestcopy[0] == waylisttestcopy[-1]:\n",
    "                waylisttestcopy.pop(-1)\n",
    "            for pairindex, pair in enumerate(waylisttestcopy):\n",
    "                oldlatlng = s2.S2LatLng.FromDegrees(float(pair[0]), float(pair[1]))\n",
    "                newpoint = oldlatlng.ToPoint().Normalize()\n",
    "                waylisttestcopy[pairindex] = newpoint\n",
    "            testpoly_area_original = s2.S2Polygon(s2.S2Loop(waylisttestcopy)).GetArea()\n",
    "            testpoly_area_reverse = s2.S2Polygon(s2.S2Loop(waylisttestcopy[::-1])).GetArea()\n",
    "            #for some reason its greater than despite the logic being backwards\n",
    "            if testpoly_area_reverse < testpoly_area_original:\n",
    "                bound['nodelist'] = waylistcopy[::-1]\n",
    "            \n",
    "    return alist_copy"
   ]
  },
  {
   "cell_type": "code",
   "execution_count": 15,
   "metadata": {},
   "outputs": [],
   "source": [
    "oriented_bounding_university = correctlyorientlist(filtered_bounding_university)\n",
    "oriented_bounding_college = correctlyorientlist(filtered_bounding_college)\n",
    "oriented_bounding_local = correctlyorientlist(bounding_local)"
   ]
  },
  {
   "cell_type": "code",
   "execution_count": null,
   "metadata": {},
   "outputs": [],
   "source": []
  },
  {
   "cell_type": "code",
   "execution_count": null,
   "metadata": {},
   "outputs": [],
   "source": []
  },
  {
   "cell_type": "code",
   "execution_count": 16,
   "metadata": {},
   "outputs": [],
   "source": [
    "with open(bounding_university_parsed_path[:-5] + '_cleaned.json', 'w') as write_file:\n",
    "    json.dump(oriented_bounding_university,write_file)\n",
    "with open(bounding_college_parsed_path[:-5] + '_cleaned.json', 'w') as write_file:\n",
    "    json.dump(oriented_bounding_college,write_file)   \n",
    "with open(bounding_local_parsed_path[:-5] + '_cleaned.json', 'w') as write_file:\n",
    "    json.dump(oriented_bounding_local,write_file)\n",
    "    \n",
    "with open(bounding_university_parsed_path[:-5] + '_noloops.json', 'w') as write_file:\n",
    "    json.dump(not_looping_university,write_file)\n",
    "with open(bounding_college_parsed_path[:-5] + '_noloops.json', 'w') as write_file:\n",
    "    json.dump(not_looping_college,write_file)\n"
   ]
  },
  {
   "cell_type": "code",
   "execution_count": null,
   "metadata": {},
   "outputs": [],
   "source": []
  },
  {
   "cell_type": "code",
   "execution_count": null,
   "metadata": {},
   "outputs": [],
   "source": []
  },
  {
   "cell_type": "code",
   "execution_count": null,
   "metadata": {},
   "outputs": [],
   "source": []
  },
  {
   "cell_type": "code",
   "execution_count": 11,
   "metadata": {},
   "outputs": [],
   "source": [
    "def adjusttos2points(alist):\n",
    "    alist_copy = copy.deepcopy(alist)\n",
    "    for progindex, bound in enumerate(alist_copy):\n",
    "        #logger.debug(progindex)\n",
    "        if bound['type'] == 'relation':\n",
    "            for windex,waylist in enumerate(bound['nodelist']):\n",
    "                while waylist[0] == waylist[-1]:\n",
    "                    waylist.pop(-1)\n",
    "                for pairindex, pair in enumerate(waylist):\n",
    "                    oldlatlng = s2.S2LatLng.FromDegrees(float(pair[0]), float(pair[1]))\n",
    "                    newpoint = oldlatlng.ToPoint().Normalize()\n",
    "                    waylist[pairindex] = newpoint\n",
    "                testpoly_area_original = s2.S2Polygon(s2.S2Loop(waylist)).GetArea()\n",
    "                testpoly_area_reverse = s2.S2Polygon(s2.S2Loop(waylist[::-1])).GetArea()\n",
    "                #for some reason its greater than despite the logic being backwards\n",
    "                if testpoly_area_reverse < testpoly_area_original:\n",
    "                    bound['nodelist'][windex] = waylist[::-1]\n",
    "        if bound['type'] == 'way':\n",
    "            waylist = bound['nodelist']\n",
    "            while waylist[0] == waylist[-1]:\n",
    "                waylist.pop(-1)\n",
    "            for pairindex, pair in enumerate(waylist):\n",
    "                oldlatlng = s2.S2LatLng.FromDegrees(float(pair[0]), float(pair[1]))\n",
    "                newpoint = oldlatlng.ToPoint().Normalize()\n",
    "                waylist[pairindex] = newpoint\n",
    "            testpoly_area_original = s2.S2Polygon(s2.S2Loop(waylist)).GetArea()\n",
    "            testpoly_area_reverse = s2.S2Polygon(s2.S2Loop(waylist[::-1])).GetArea()\n",
    "            #for some reason its greater than despite the logic being backwards\n",
    "            if testpoly_area_reverse < testpoly_area_original:\n",
    "                bound['nodelist'] = waylist[::-1]\n",
    "            \n",
    "    return alist_copy"
   ]
  },
  {
   "cell_type": "code",
   "execution_count": 12,
   "metadata": {},
   "outputs": [],
   "source": [
    "points_university = adjusttos2points(filtered_bounding_university)\n",
    "points_college = adjusttos2points(filtered_bounding_college)\n",
    "points_local = adjusttos2points(filtered_bounding_local)"
   ]
  },
  {
   "cell_type": "code",
   "execution_count": null,
   "metadata": {},
   "outputs": [],
   "source": []
  },
  {
   "cell_type": "code",
   "execution_count": 13,
   "metadata": {},
   "outputs": [],
   "source": [
    "def pointstos2cells(alist):\n",
    "    cover16s = s2.S2RegionCoverer()\n",
    "    cover16s.set_fixed_level(16)\n",
    "    cover10s = s2.S2RegionCoverer()\n",
    "    cover10s.set_fixed_level(10)\n",
    "    coverl10_l11 = s2.S2RegionCoverer()\n",
    "    coverl10_l11.set_max_level(11)\n",
    "    coverl10_l11.set_min_level(10)\n",
    "    coverl10tol16 = s2.S2RegionCoverer()\n",
    "    coverl10tol16.set_max_level(16)\n",
    "    coverl10tol16.set_min_level(10)\n",
    "    for progindex, bound in enumerate(alist):\n",
    "        logger.debug(progindex)\n",
    "        if bound['type'] == 'relation':\n",
    "            looplist = []\n",
    "            areas = []\n",
    "            for waylist in bound['nodelist']:\n",
    "                wloop = s2.S2Loop(waylist)\n",
    "                wpoly = s2.S2Polygon(wloop)\n",
    "                looplist.append(wloop)\n",
    "                areas.append(wpoly.GetArea())\n",
    "            newareas, looplist = zip(*sorted(zip(areas, looplist)))\n",
    "            logger.debug(newareas)\n",
    "            looplist = list(looplist)\n",
    "            using_polygon = s2.S2Polygon()\n",
    "            using_polygon.InitNested(looplist)\n",
    "            coveringl10_to_l16 = map(lambda x: x.ToToken(),coverl10tol16.GetCovering(wloop))\n",
    "            coveringl10s = map(lambda x: x.ToToken(),cover10s.GetCovering(wloop))\n",
    "            coveringl10_and_l11 = map(lambda x: x.ToToken(),coverl10_l11.GetCovering(wloop))\n",
    "            coveringl16s = map(lambda x: x.ToToken(),cover16s.GetCovering(wloop))\n",
    "\n",
    "            bound['cl10s'] = coveringl10s\n",
    "            bound['cl10tol16'] = coveringl10_to_l16\n",
    "            bound['cl10+l11'] = coveringl10_and_l11\n",
    "            bound['cl16s'] = coveringl16s\n",
    "        if bound['type'] == 'way':\n",
    "            using_polygon = s2.S2Polygon(s2.S2Loop(bound['nodelist']))\n",
    "            coveringl10_to_l16 = map(lambda x: x.ToToken(),coverl10tol16.GetCovering(using_polygon))\n",
    "            coveringl10s = map(lambda x: x.ToToken(),cover10s.GetCovering(using_polygon))\n",
    "            coveringl10_and_l11 = map(lambda x: x.ToToken(),coverl10_l11.GetCovering(using_polygon))\n",
    "            coveringl16s = map(lambda x: x.ToToken(),cover16s.GetCovering(using_polygon))\n",
    "            \n",
    "            bound['cl10s'] = coveringl10s\n",
    "            bound['cl10tol16'] = coveringl10_to_l16\n",
    "            bound['cl10+l11'] = coveringl10_and_l11\n",
    "            bound['cl16s'] = coveringl16s\n",
    "    #return alist_copy"
   ]
  },
  {
   "cell_type": "code",
   "execution_count": null,
   "metadata": {},
   "outputs": [
    {
     "name": "stderr",
     "output_type": "stream",
     "text": [
      "   0\n",
      "   (5.418522060438454e-11, 1.6938382448817692e-10)\n"
     ]
    }
   ],
   "source": [
    "s2_university = pointstos2cells(points_university)\n",
    "s2_college = pointstos2cells(points_college)\n",
    "s2_local = pointstos2cells(points_local)"
   ]
  },
  {
   "cell_type": "code",
   "execution_count": null,
   "metadata": {},
   "outputs": [],
   "source": []
  },
  {
   "cell_type": "code",
   "execution_count": null,
   "metadata": {},
   "outputs": [],
   "source": []
  },
  {
   "cell_type": "code",
   "execution_count": 11,
   "metadata": {},
   "outputs": [],
   "source": [
    "def borderstos2cells(alist):\n",
    "    alist_copy = copy.deepcopy(alist)\n",
    "    for progindex, bound in enumerate(alist_copy):\n",
    "        cover16s = s2.S2RegionCoverer()\n",
    "        cover16s.set_fixed_level(16)\n",
    "        cover10s = s2.S2RegionCoverer()\n",
    "        cover10s.set_fixed_level(10)\n",
    "        coverl10_l11 = s2.S2RegionCoverer()\n",
    "        coverl10_l11.set_max_level(11)\n",
    "        coverl10_l11.set_min_level(10)\n",
    "        coverl10tol16 = s2.S2RegionCoverer()\n",
    "        coverl10tol16.set_max_level(16)\n",
    "        coverl10tol16.set_min_level(10)\n",
    "        logger.debug(progindex)\n",
    "        if bound['type'] == 'relation':\n",
    "            looplist = []\n",
    "            for windex,waylist in enumerate(bound['nodelist']):\n",
    "                while waylist[0] == waylist[-1]:\n",
    "                    waylist.pop(-1)\n",
    "                for pairindex, pair in enumerate(waylist):\n",
    "                    oldlatlng = s2.S2LatLng.FromDegrees(float(pair[0]), float(pair[1]))\n",
    "                    newpoint = oldlatlng.ToPoint().Normalize()\n",
    "                    waylist[pairindex] = newpoint\n",
    "                testloop_original = s2.S2Loop(waylist)\n",
    "                testloop_reverse = s2.S2Loop(waylist[::-1])\n",
    "                testpoly_original = s2.S2Polygon(testloop_original)\n",
    "                testpoly_reverse = s2.S2Polygon(testloop_reverse)\n",
    "                testpoly_area_original = testpoly_original.GetArea()\n",
    "                testpoly_area_reverse = testpoly_reverse.GetArea()\n",
    "                if testpoly_area_reverse < testpoly_area_original:\n",
    "                    looplist.append(testloop_reverse)\n",
    "                else:\n",
    "                    looplist.append(testloop_original)\n",
    "            logger.debug(looplist)\n",
    "            using_polygon = s2.S2Polygon()\n",
    "            using_polygon.InitNested(looplist)\n",
    "            logger.debug('initialized polygon')\n",
    "            coveringl10_to_l16 = map(lambda x: x.ToToken(),coverl10tol16.GetCovering(using_polygon))\n",
    "            coveringl10s = map(lambda x: x.ToToken(),cover10s.GetCovering(using_polygon))\n",
    "            coveringl10_and_l11 = map(lambda x: x.ToToken(),coverl10_l11.GetCovering(using_polygon))\n",
    "            coveringl16s = map(lambda x: x.ToToken(),cover16s.GetCovering(using_polygon))\n",
    "            \n",
    "            bound['cl10s'] = coveringl10s\n",
    "            bound['cl10tol16'] = coveringl10_to_l16\n",
    "            bound['cl10+l11'] = coveringl10_and_l11\n",
    "            bound['cl16s'] = coveringl16s\n",
    "        if bound['type'] == 'way':\n",
    "            waylist = bound['nodelist']\n",
    "            while waylist[0] == waylist[-1]:\n",
    "                waylist.pop(-1)\n",
    "            for pairindex, pair in enumerate(waylist):\n",
    "                oldlatlng = s2.S2LatLng.FromDegrees(float(pair[0]), float(pair[1]))\n",
    "                newpoint = oldlatlng.ToPoint().Normalize()\n",
    "                waylist[pairindex] = newpoint\n",
    "                \n",
    "            testpoly_original = s2.S2Polygon(s2.S2Loop(waylist))\n",
    "            testpoly_reverse = s2.S2Polygon(s2.S2Loop(waylist[::-1]))\n",
    "            testpoly_area_original = testpoly_original.GetArea()\n",
    "            testpoly_area_reverse = testpoly_reverse.GetArea()\n",
    "            using_polygon = testpoly_original\n",
    "            if testpoly_area_reverse < testpoly_area_original:\n",
    "                using_polygon = testpoly_reverse\n",
    "            coveringl10_to_l16 = map(lambda x: x.ToToken(),coverl10tol16.GetCovering(using_polygon))\n",
    "            coveringl10s = map(lambda x: x.ToToken(),cover10s.GetCovering(using_polygon))\n",
    "            coveringl10_and_l11 = map(lambda x: x.ToToken(),coverl10_l11.GetCovering(using_polygon))\n",
    "            coveringl16s = map(lambda x: x.ToToken(),cover16s.GetCovering(using_polygon))\n",
    "            \n",
    "            bound['cl10s'] = coveringl10s\n",
    "            bound['cl10tol16'] = coveringl10_to_l16\n",
    "            bound['cl10+l11'] = coveringl10_and_l11\n",
    "            bound['cl16s'] = coveringl16s\n",
    "    return alist_copy"
   ]
  },
  {
   "cell_type": "code",
   "execution_count": null,
   "metadata": {},
   "outputs": [
    {
     "name": "stderr",
     "output_type": "stream",
     "text": [
      "   0\n",
      "   [<pywraps2.S2Loop; proxy of <Swig Object of type 'S2Loop *' at 0x12f8b1ba0> >, <pywraps2.S2Loop; proxy of <Swig Object of type 'S2Loop *' at 0x12f8b1690> >]\n"
     ]
    }
   ],
   "source": [
    "s2_university = borderstos2cells(points_university)\n",
    "s2_college = borderstos2cells(points_college)\n",
    "s2_local = borderstos2cells(points_local)"
   ]
  },
  {
   "cell_type": "code",
   "execution_count": 3,
   "metadata": {},
   "outputs": [
    {
     "ename": "NameError",
     "evalue": "name 'points_university' is not defined",
     "output_type": "error",
     "traceback": [
      "\u001b[0;31m---------------------------------------------------------------------------\u001b[0m",
      "\u001b[0;31mNameError\u001b[0m                                 Traceback (most recent call last)",
      "\u001b[0;32m<ipython-input-3-2cac9b45be4e>\u001b[0m in \u001b[0;36m<module>\u001b[0;34m()\u001b[0m\n\u001b[0;32m----> 1\u001b[0;31m \u001b[0mallloops\u001b[0m \u001b[0;34m=\u001b[0m \u001b[0;34m[\u001b[0m\u001b[0ms2\u001b[0m\u001b[0;34m.\u001b[0m\u001b[0mS2Loop\u001b[0m\u001b[0;34m(\u001b[0m\u001b[0melement\u001b[0m\u001b[0;34m)\u001b[0m \u001b[0;32mfor\u001b[0m \u001b[0melement\u001b[0m \u001b[0;32min\u001b[0m \u001b[0mpoints_university\u001b[0m\u001b[0;34m[\u001b[0m\u001b[0;36m906\u001b[0m\u001b[0;34m]\u001b[0m\u001b[0;34m[\u001b[0m\u001b[0;34m'nodelist'\u001b[0m\u001b[0;34m]\u001b[0m\u001b[0;34m]\u001b[0m\u001b[0;34m\u001b[0m\u001b[0m\n\u001b[0m",
      "\u001b[0;31mNameError\u001b[0m: name 'points_university' is not defined"
     ]
    }
   ],
   "source": [
    "allloops = [s2.S2Loop(element) for element in points_university[906]['nodelist']]"
   ]
  },
  {
   "cell_type": "code",
   "execution_count": 20,
   "metadata": {},
   "outputs": [],
   "source": [
    "polygon = s2.S2Polygon()"
   ]
  },
  {
   "cell_type": "code",
   "execution_count": 21,
   "metadata": {},
   "outputs": [],
   "source": [
    "polygon.InitNested(allloops)"
   ]
  },
  {
   "cell_type": "code",
   "execution_count": 22,
   "metadata": {},
   "outputs": [
    {
     "data": {
      "text/plain": [
       "1.0394898163350016e-07"
      ]
     },
     "execution_count": 22,
     "metadata": {},
     "output_type": "execute_result"
    }
   ],
   "source": [
    "polygon.GetArea()"
   ]
  },
  {
   "cell_type": "code",
   "execution_count": null,
   "metadata": {},
   "outputs": [],
   "source": [
    "s2.S2"
   ]
  },
  {
   "cell_type": "code",
   "execution_count": 14,
   "metadata": {},
   "outputs": [],
   "source": [
    "pb = s2.S2Polygon()"
   ]
  },
  {
   "cell_type": "code",
   "execution_count": 15,
   "metadata": {},
   "outputs": [
    {
     "ename": "AttributeError",
     "evalue": "'S2Polygon' object has no attribute 'PolygonBuilder'",
     "output_type": "error",
     "traceback": [
      "\u001b[0;31m---------------------------------------------------------------------------\u001b[0m",
      "\u001b[0;31mAttributeError\u001b[0m                            Traceback (most recent call last)",
      "\u001b[0;32m<ipython-input-15-690837debdca>\u001b[0m in \u001b[0;36m<module>\u001b[0;34m()\u001b[0m\n\u001b[0;32m----> 1\u001b[0;31m \u001b[0mpb\u001b[0m\u001b[0;34m.\u001b[0m\u001b[0mPolygonBuilder\u001b[0m\u001b[0;34m(\u001b[0m\u001b[0;34m)\u001b[0m\u001b[0;34m\u001b[0m\u001b[0m\n\u001b[0m",
      "\u001b[0;32m/usr/local/lib/python2.7/site-packages/pywraps2.py\u001b[0m in \u001b[0;36m<lambda>\u001b[0;34m(self, name)\u001b[0m\n\u001b[1;32m   1115\u001b[0m     \u001b[0m__setattr__\u001b[0m \u001b[0;34m=\u001b[0m \u001b[0;32mlambda\u001b[0m \u001b[0mself\u001b[0m\u001b[0;34m,\u001b[0m \u001b[0mname\u001b[0m\u001b[0;34m,\u001b[0m \u001b[0mvalue\u001b[0m\u001b[0;34m:\u001b[0m \u001b[0m_swig_setattr\u001b[0m\u001b[0;34m(\u001b[0m\u001b[0mself\u001b[0m\u001b[0;34m,\u001b[0m \u001b[0mS2Polygon\u001b[0m\u001b[0;34m,\u001b[0m \u001b[0mname\u001b[0m\u001b[0;34m,\u001b[0m \u001b[0mvalue\u001b[0m\u001b[0;34m)\u001b[0m\u001b[0;34m\u001b[0m\u001b[0m\n\u001b[1;32m   1116\u001b[0m     \u001b[0m__swig_getmethods__\u001b[0m \u001b[0;34m=\u001b[0m \u001b[0;34m{\u001b[0m\u001b[0;34m}\u001b[0m\u001b[0;34m\u001b[0m\u001b[0m\n\u001b[0;32m-> 1117\u001b[0;31m     \u001b[0m__getattr__\u001b[0m \u001b[0;34m=\u001b[0m \u001b[0;32mlambda\u001b[0m \u001b[0mself\u001b[0m\u001b[0;34m,\u001b[0m \u001b[0mname\u001b[0m\u001b[0;34m:\u001b[0m \u001b[0m_swig_getattr\u001b[0m\u001b[0;34m(\u001b[0m\u001b[0mself\u001b[0m\u001b[0;34m,\u001b[0m \u001b[0mS2Polygon\u001b[0m\u001b[0;34m,\u001b[0m \u001b[0mname\u001b[0m\u001b[0;34m)\u001b[0m\u001b[0;34m\u001b[0m\u001b[0m\n\u001b[0m\u001b[1;32m   1118\u001b[0m     \u001b[0m__repr__\u001b[0m \u001b[0;34m=\u001b[0m \u001b[0m_swig_repr\u001b[0m\u001b[0;34m\u001b[0m\u001b[0m\n\u001b[1;32m   1119\u001b[0m \u001b[0;34m\u001b[0m\u001b[0m\n",
      "\u001b[0;32m/usr/local/lib/python2.7/site-packages/pywraps2.py\u001b[0m in \u001b[0;36m_swig_getattr\u001b[0;34m(self, class_type, name)\u001b[0m\n\u001b[1;32m     78\u001b[0m     \u001b[0;32mif\u001b[0m \u001b[0mmethod\u001b[0m\u001b[0;34m:\u001b[0m\u001b[0;34m\u001b[0m\u001b[0m\n\u001b[1;32m     79\u001b[0m         \u001b[0;32mreturn\u001b[0m \u001b[0mmethod\u001b[0m\u001b[0;34m(\u001b[0m\u001b[0mself\u001b[0m\u001b[0;34m)\u001b[0m\u001b[0;34m\u001b[0m\u001b[0m\n\u001b[0;32m---> 80\u001b[0;31m     \u001b[0;32mraise\u001b[0m \u001b[0mAttributeError\u001b[0m\u001b[0;34m(\u001b[0m\u001b[0;34m\"'%s' object has no attribute '%s'\"\u001b[0m \u001b[0;34m%\u001b[0m \u001b[0;34m(\u001b[0m\u001b[0mclass_type\u001b[0m\u001b[0;34m.\u001b[0m\u001b[0m__name__\u001b[0m\u001b[0;34m,\u001b[0m \u001b[0mname\u001b[0m\u001b[0;34m)\u001b[0m\u001b[0;34m)\u001b[0m\u001b[0;34m\u001b[0m\u001b[0m\n\u001b[0m\u001b[1;32m     81\u001b[0m \u001b[0;34m\u001b[0m\u001b[0m\n\u001b[1;32m     82\u001b[0m \u001b[0;34m\u001b[0m\u001b[0m\n",
      "\u001b[0;31mAttributeError\u001b[0m: 'S2Polygon' object has no attribute 'PolygonBuilder'"
     ]
    }
   ],
   "source": [
    "pb.PolygonBuilder()"
   ]
  },
  {
   "cell_type": "code",
   "execution_count": 13,
   "metadata": {
    "scrolled": true
   },
   "outputs": [
    {
     "data": {
      "text/plain": [
       "25"
      ]
     },
     "execution_count": 13,
     "metadata": {},
     "output_type": "execute_result"
    }
   ],
   "source": [
    "len(points_university[906]['nodelist'])"
   ]
  },
  {
   "cell_type": "code",
   "execution_count": 14,
   "metadata": {},
   "outputs": [],
   "source": [
    "test1 = points_university[906]['nodelist'][1]"
   ]
  },
  {
   "cell_type": "code",
   "execution_count": 15,
   "metadata": {},
   "outputs": [
    {
     "data": {
      "text/plain": [
       "[<pywraps2.S2Point; proxy of <Swig Object of type 'S2Point *' at 0x1316b5de0> >,\n",
       " <pywraps2.S2Point; proxy of <Swig Object of type 'S2Point *' at 0x1316b5db0> >,\n",
       " <pywraps2.S2Point; proxy of <Swig Object of type 'S2Point *' at 0x1316b5d80> >,\n",
       " <pywraps2.S2Point; proxy of <Swig Object of type 'S2Point *' at 0x1316b5d50> >,\n",
       " <pywraps2.S2Point; proxy of <Swig Object of type 'S2Point *' at 0x1316b5d20> >,\n",
       " <pywraps2.S2Point; proxy of <Swig Object of type 'S2Point *' at 0x1316b5cf0> >,\n",
       " <pywraps2.S2Point; proxy of <Swig Object of type 'S2Point *' at 0x1316b5cc0> >,\n",
       " <pywraps2.S2Point; proxy of <Swig Object of type 'S2Point *' at 0x1316b5c90> >,\n",
       " <pywraps2.S2Point; proxy of <Swig Object of type 'S2Point *' at 0x1316b5c60> >,\n",
       " <pywraps2.S2Point; proxy of <Swig Object of type 'S2Point *' at 0x1316b5c30> >,\n",
       " <pywraps2.S2Point; proxy of <Swig Object of type 'S2Point *' at 0x1316b5c00> >]"
      ]
     },
     "execution_count": 15,
     "metadata": {},
     "output_type": "execute_result"
    }
   ],
   "source": [
    "test1"
   ]
  },
  {
   "cell_type": "code",
   "execution_count": 16,
   "metadata": {},
   "outputs": [],
   "source": [
    "newloop = s2.S2Loop(test1)"
   ]
  },
  {
   "cell_type": "code",
   "execution_count": 17,
   "metadata": {},
   "outputs": [],
   "source": [
    "polygon = s2.S2Polygon(newloop)"
   ]
  },
  {
   "cell_type": "code",
   "execution_count": 18,
   "metadata": {},
   "outputs": [
    {
     "data": {
      "text/plain": [
       "2.6379255516429046e-10"
      ]
     },
     "execution_count": 18,
     "metadata": {},
     "output_type": "execute_result"
    }
   ],
   "source": [
    "polygon.GetArea()"
   ]
  },
  {
   "cell_type": "code",
   "execution_count": 7,
   "metadata": {},
   "outputs": [],
   "source": [
    "cover = s2.S2RegionCoverer()"
   ]
  },
  {
   "cell_type": "code",
   "execution_count": 8,
   "metadata": {},
   "outputs": [],
   "source": [
    "cover.set_max_level(16)\n",
    "cover.set_min_level(10)"
   ]
  },
  {
   "cell_type": "code",
   "execution_count": null,
   "metadata": {},
   "outputs": [],
   "source": [
    "cover."
   ]
  },
  {
   "cell_type": "code",
   "execution_count": 25,
   "metadata": {},
   "outputs": [
    {
     "name": "stderr",
     "output_type": "stream",
     "text": [
      "   --- 0.00118017196655 seconds ---\n"
     ]
    }
   ],
   "source": [
    "start_time = time.time()\n",
    "finalcovering = cover.GetCovering(polygon)\n",
    "logger.debug(\"--- %s seconds ---\" % (time.time() - start_time))"
   ]
  },
  {
   "cell_type": "code",
   "execution_count": 26,
   "metadata": {
    "scrolled": true
   },
   "outputs": [
    {
     "data": {
      "text/plain": [
       "8"
      ]
     },
     "execution_count": 26,
     "metadata": {},
     "output_type": "execute_result"
    }
   ],
   "source": [
    "len(finalcovering)"
   ]
  },
  {
   "cell_type": "code",
   "execution_count": 27,
   "metadata": {},
   "outputs": [
    {
     "name": "stderr",
     "output_type": "stream",
     "text": [
      "   80857c14, \n",
      "   80857c181, \n",
      "   80857c3, \n",
      "   80857c5, \n",
      "   80857c6b, \n",
      "   80857dcc, \n",
      "   80857e9c, \n",
      "   80857ea04, \n"
     ]
    },
    {
     "data": {
      "text/plain": [
       "[None, None, None, None, None, None, None, None]"
      ]
     },
     "execution_count": 27,
     "metadata": {},
     "output_type": "execute_result"
    }
   ],
   "source": [
    "[logger.debug(element.ToToken() + ', ') for element in finalcovering]"
   ]
  },
  {
   "cell_type": "code",
   "execution_count": 18,
   "metadata": {},
   "outputs": [
    {
     "name": "stderr",
     "output_type": "stream",
     "text": [
      "   --- 58.0674459934 seconds ---\n"
     ]
    }
   ],
   "source": [
    "start_time = time.time()\n",
    "finalcovering_loop = cover.GetCovering(loop1)\n",
    "logger.debug(\"--- %s seconds ---\" % (time.time() - start_time))"
   ]
  },
  {
   "cell_type": "code",
   "execution_count": 19,
   "metadata": {},
   "outputs": [
    {
     "name": "stderr",
     "output_type": "stream",
     "text": [
      "   --- 82.9485869408 seconds ---\n"
     ]
    }
   ],
   "source": [
    "start_time = time.time()\n",
    "finalcovering_rect = cover.GetCovering(rectbound)\n",
    "logger.debug(\"--- %s seconds ---\" % (time.time() - start_time))"
   ]
  },
  {
   "cell_type": "code",
   "execution_count": 28,
   "metadata": {},
   "outputs": [
    {
     "data": {
      "text/plain": [
       "6291456"
      ]
     },
     "execution_count": 28,
     "metadata": {},
     "output_type": "execute_result"
    }
   ],
   "source": [
    "len(finalcovering_loop)"
   ]
  },
  {
   "cell_type": "code",
   "execution_count": 26,
   "metadata": {},
   "outputs": [
    {
     "data": {
      "text/plain": [
       "6291456"
      ]
     },
     "execution_count": 26,
     "metadata": {},
     "output_type": "execute_result"
    }
   ],
   "source": [
    "len(finalcovering_poly)"
   ]
  },
  {
   "cell_type": "code",
   "execution_count": 31,
   "metadata": {},
   "outputs": [],
   "source": [
    "first = finalcovering_poly[]"
   ]
  },
  {
   "cell_type": "code",
   "execution_count": 33,
   "metadata": {},
   "outputs": [
    {
     "data": {
      "text/plain": [
       "'0/0000000000'"
      ]
     },
     "execution_count": 33,
     "metadata": {},
     "output_type": "execute_result"
    }
   ],
   "source": [
    "first.ToString()"
   ]
  },
  {
   "cell_type": "code",
   "execution_count": 34,
   "metadata": {},
   "outputs": [
    {
     "data": {
      "text/plain": [
       "'000001'"
      ]
     },
     "execution_count": 34,
     "metadata": {},
     "output_type": "execute_result"
    }
   ],
   "source": [
    "first.ToToken()"
   ]
  },
  {
   "cell_type": "code",
   "execution_count": null,
   "metadata": {},
   "outputs": [],
   "source": []
  },
  {
   "cell_type": "code",
   "execution_count": null,
   "metadata": {},
   "outputs": [],
   "source": []
  },
  {
   "cell_type": "code",
   "execution_count": null,
   "metadata": {},
   "outputs": [],
   "source": []
  },
  {
   "cell_type": "code",
   "execution_count": null,
   "metadata": {},
   "outputs": [],
   "source": []
  },
  {
   "cell_type": "code",
   "execution_count": null,
   "metadata": {},
   "outputs": [],
   "source": []
  },
  {
   "cell_type": "code",
   "execution_count": null,
   "metadata": {},
   "outputs": [],
   "source": []
  },
  {
   "cell_type": "code",
   "execution_count": 18,
   "metadata": {},
   "outputs": [],
   "source": [
    "rect = polygon.GetRectBound()"
   ]
  },
  {
   "cell_type": "code",
   "execution_count": 24,
   "metadata": {},
   "outputs": [],
   "source": [
    "size = rect.GetCenter()"
   ]
  },
  {
   "cell_type": "code",
   "execution_count": 26,
   "metadata": {},
   "outputs": [
    {
     "data": {
      "text/plain": [
       "<pywraps2.S2Point; proxy of <Swig Object of type 'S2Point *' at 0x135261ba0> >"
      ]
     },
     "execution_count": 26,
     "metadata": {},
     "output_type": "execute_result"
    }
   ],
   "source": [
    "size."
   ]
  },
  {
   "cell_type": "code",
   "execution_count": null,
   "metadata": {},
   "outputs": [],
   "source": []
  },
  {
   "cell_type": "code",
   "execution_count": null,
   "metadata": {},
   "outputs": [],
   "source": []
  },
  {
   "cell_type": "code",
   "execution_count": null,
   "metadata": {},
   "outputs": [],
   "source": []
  },
  {
   "cell_type": "code",
   "execution_count": null,
   "metadata": {},
   "outputs": [],
   "source": []
  },
  {
   "cell_type": "code",
   "execution_count": null,
   "metadata": {},
   "outputs": [],
   "source": []
  },
  {
   "cell_type": "code",
   "execution_count": 42,
   "metadata": {},
   "outputs": [],
   "source": [
    "polygon = s2.S2Polygon()"
   ]
  },
  {
   "cell_type": "code",
   "execution_count": null,
   "metadata": {},
   "outputs": [],
   "source": [
    "polygon.InitNested([loop1, loop2])"
   ]
  },
  {
   "cell_type": "code",
   "execution_count": null,
   "metadata": {},
   "outputs": [],
   "source": [
    "def addloops(alist):\n",
    "    alist_copy = copy.deepcopy(alist)\n",
    "    for bound in alist_copy:\n",
    "        bount['loop'] = []\n",
    "        if bound['type'] == 'relation':\n",
    "            for waylist in bound['nodelist']:\n",
    "                bound['loop'].append(s2.S2Loop())\n",
    "        if bound['type'] == 'way':\n",
    "            for pairindex, pair in enumerate(bound['nodelist']):\n",
    "                bound['nodelist'][pairindex] = s2.S2LatLng.FromDegrees(pair[0], pair[1]).ToPoint()\n",
    "    return alist_copy"
   ]
  },
  {
   "cell_type": "code",
   "execution_count": 13,
   "metadata": {},
   "outputs": [],
   "source": [
    "loop = s2.S2Loop()"
   ]
  },
  {
   "cell_type": "code",
   "execution_count": null,
   "metadata": {},
   "outputs": [],
   "source": []
  },
  {
   "cell_type": "code",
   "execution_count": null,
   "metadata": {},
   "outputs": [],
   "source": []
  },
  {
   "cell_type": "code",
   "execution_count": null,
   "metadata": {},
   "outputs": [],
   "source": []
  },
  {
   "cell_type": "code",
   "execution_count": null,
   "metadata": {},
   "outputs": [],
   "source": []
  },
  {
   "cell_type": "code",
   "execution_count": null,
   "metadata": {},
   "outputs": [],
   "source": []
  },
  {
   "cell_type": "markdown",
   "metadata": {},
   "source": [
    "# stuff for fixing bad elements (too much work)"
   ]
  },
  {
   "cell_type": "code",
   "execution_count": 29,
   "metadata": {},
   "outputs": [],
   "source": [
    "def listtostring(alist):\n",
    "    for element in alist:\n",
    "        logger.debug(str(element[0]) + ', ' + str(element[1]))"
   ]
  },
  {
   "cell_type": "code",
   "execution_count": 30,
   "metadata": {},
   "outputs": [],
   "source": [
    "def testnodelist(nodelist, poplist):\n",
    "    newnodelist = copy.deepcopy(nodelist)\n",
    "    try:\n",
    "        newnodelist[0][0][0]\n",
    "    except:\n",
    "        if newnodelist[0] == newnodelist[-1]:\n",
    "            retain = newnodelist.pop(-1)\n",
    "        newnodelist = [element for element in newnodelist if element not in poplist]\n",
    "        testnodelist = copy.deepcopy(newnodelist)\n",
    "        for pairindex, pair in enumerate(testnodelist):\n",
    "            oldlatlng = s2.S2LatLng.FromDegrees(float(pair[0]), float(pair[1]))\n",
    "            newpoint = oldlatlng.ToPoint().Normalize()\n",
    "            testnodelist[pairindex] = newpoint\n",
    "        s2.S2Loop(testnodelist)\n",
    "        #apply changes if didnt crash\n",
    "        newnodelist.append(retain)\n",
    "        logger.debug(poplist)\n",
    "        return newnodelist\n",
    "    else:\n",
    "        for windex, waylist in enumerate(newnodelist):\n",
    "            if waylist[0] == waylist[-1]:\n",
    "                retain = waylist.pop(-1)\n",
    "            waylist = [element for element in waylist if element not in poplist[windex]]\n",
    "            testwaylist = copy.deepcopy(waylist)\n",
    "            for pairindex, pair in enumerate(testwaylist):\n",
    "                oldlatlng = s2.S2LatLng.FromDegrees(float(pair[0]), float(pair[1]))\n",
    "                newpoint = oldlatlng.ToPoint().Normalize()\n",
    "                testwaylist[pairindex] = newpoint\n",
    "            s2.S2Loop(testwaylist)\n",
    "            #apply changes if didnt crash\n",
    "            waylist.append(retain)\n",
    "            newnodelist[windex] = waylist\n",
    "        logger.debug(poplist)\n",
    "        return newnodelist"
   ]
  },
  {
   "cell_type": "code",
   "execution_count": null,
   "metadata": {},
   "outputs": [],
   "source": []
  },
  {
   "cell_type": "code",
   "execution_count": 31,
   "metadata": {},
   "outputs": [],
   "source": [
    "hoveredonset = set()\n",
    "def plotlist(nodelist):\n",
    "    newnodelist = copy.deepcopy(nodelist)\n",
    "    input_lon = np.array([pair[1] for pair in newnodelist])\n",
    "    input_lat = np.array([pair[0] for pair in newnodelist])\n",
    "    x, y = proj.transform(crs_wgs, crs_bng, input_lon, input_lat)\n",
    "    x = (x - x.min()) / (x.max() - x.min())\n",
    "    y = (y - y.min()) / (y.max() - y.min())\n",
    "    \n",
    "    #plt.scatter(x,y)\n",
    "    \n",
    "    #logger.debug(input_lon)\n",
    "    \n",
    "        \n",
    "    tuplelist = list(newnodelist)\n",
    "#     for index,element in enumerate(tuplelist):\n",
    "#         logger.debug(element)\n",
    "#         logger.debug(newnodelist[index])\n",
    "\n",
    "    string_tuplelist = [str(element) for element in tuplelist]\n",
    "    names = np.array(string_tuplelist)\n",
    "    c = np.random.randint(1,5,size=len(newnodelist))\n",
    "\n",
    "    norm = plt.Normalize(1,4)\n",
    "    cmap = plt.cm.RdYlGn\n",
    "    \n",
    "    fig,ax = plt.subplots()\n",
    "    sc = plt.scatter(x,y,c=c, s=30, cmap=cmap, norm=norm)\n",
    "\n",
    "    annot = ax.annotate(\"\", xy=(0,0), xytext=(20,20),textcoords=\"offset points\",\n",
    "                        bbox=dict(boxstyle=\"round\", fc=\"w\"),\n",
    "                        arrowprops=dict(facecolor='black', shrink=0.05),horizontalalignment='center')\n",
    "    annot.set_visible(False)\n",
    "\n",
    "    def update_annot(ind):\n",
    "\n",
    "        pos = sc.get_offsets()[ind[\"ind\"][0]]\n",
    "        annot.xy = pos\n",
    "        text = \"{}, {}\".format(\" \".join(list(map(str,ind[\"ind\"]))), \n",
    "                               \" \".join([names[n] for n in ind[\"ind\"]]))\n",
    "        annot.set_text(text)\n",
    "        annot.get_bbox_patch().set_facecolor(cmap(norm(c[ind[\"ind\"][0]])))\n",
    "        annot.get_bbox_patch().set_alpha(0.4)\n",
    "\n",
    "\n",
    "    def hover(event):\n",
    "        vis = annot.get_visible()\n",
    "        if event.inaxes == ax:\n",
    "            cont, ind = sc.contains(event)\n",
    "            if cont:\n",
    "                for n in ind[\"ind\"]:\n",
    "                    hoveredonset.add(tuple(tuplelist[n]))\n",
    "                update_annot(ind)\n",
    "                annot.set_visible(True)\n",
    "                fig.canvas.draw_idle()\n",
    "            else:\n",
    "                if vis:\n",
    "                    annot.set_visible(False)\n",
    "                    fig.canvas.draw_idle()\n",
    "\n",
    "    fig.canvas.mpl_connect(\"motion_notify_event\", hover)\n",
    "    \n",
    "\n",
    "    plt.show()"
   ]
  },
  {
   "cell_type": "code",
   "execution_count": null,
   "metadata": {
    "scrolled": false
   },
   "outputs": [],
   "source": [
    "plotlist(bounding_university[1812]['nodelist'])"
   ]
  },
  {
   "cell_type": "code",
   "execution_count": 12,
   "metadata": {},
   "outputs": [
    {
     "data": {
      "text/plain": [
       "set()"
      ]
     },
     "execution_count": 12,
     "metadata": {},
     "output_type": "execute_result"
    }
   ],
   "source": [
    "hoveredonset"
   ]
  },
  {
   "cell_type": "code",
   "execution_count": null,
   "metadata": {},
   "outputs": [],
   "source": [
    "newtest = testnodelist(bounding_university[1812]['nodelist'], map(lambda x: list(x), list(hoveredonset)))"
   ]
  },
  {
   "cell_type": "code",
   "execution_count": null,
   "metadata": {},
   "outputs": [],
   "source": []
  },
  {
   "cell_type": "code",
   "execution_count": null,
   "metadata": {},
   "outputs": [],
   "source": []
  },
  {
   "cell_type": "code",
   "execution_count": null,
   "metadata": {},
   "outputs": [],
   "source": []
  },
  {
   "cell_type": "code",
   "execution_count": null,
   "metadata": {},
   "outputs": [],
   "source": []
  },
  {
   "cell_type": "code",
   "execution_count": null,
   "metadata": {},
   "outputs": [],
   "source": []
  },
  {
   "cell_type": "code",
   "execution_count": null,
   "metadata": {},
   "outputs": [],
   "source": []
  },
  {
   "cell_type": "code",
   "execution_count": 11,
   "metadata": {},
   "outputs": [],
   "source": [
    "forbu514 = [[-21.3412867, 55.491437], [-21.3411172, 55.4916237], [-21.3410765, 55.4915734], [-21.3409724, 55.49143], [-21.34091, 55.4913373], [-21.340846, 55.4912573], [-21.3407704, 55.4912861], [-21.3408304, 55.4913315], [-21.340844, 55.4913683], [-21.3408617, 55.4913881], [-21.3409271, 55.491402], [-21.3410451, 55.4914876], [-21.3409843, 55.4915411], [-21.3410342, 55.4915717], [-21.3410612, 55.4916359], [-21.3410142, 55.4917124], [-21.3409273, 55.4917522], [-21.3408475, 55.4917675], [-21.3407748, 55.491769], [-21.3407321, 55.4917935], [-21.3406964, 55.4917782], [-21.3406708, 55.4917828], [-21.3406252, 55.4917966], [-21.3405853, 55.4917706], [-21.3405454, 55.4917415], [-21.3404827, 55.4917354], [-21.3404528, 55.4917293], [-21.3404285, 55.4917415], [-21.3404186, 55.4917216], [-21.3404186, 55.4916788], [-21.3404247, 55.4915998], [-21.3404889, 55.4915656], [-21.3405425, 55.4915747], [-21.340571, 55.4914842], [-21.3406466, 55.4914814], [-21.3406352, 55.491434], [-21.3406537, 55.4913697], [-21.3407025, 55.4913045], [-21.3403466, 55.4914245], [-21.3403259, 55.4913611], [-21.3403396, 55.4913407], [-21.3403847, 55.4914644], [-21.3403496, 55.491544]]\n",
    "forbu1296 = [[[48.8186574, 2.3328606],[48.8219296, 2.3305399],[48.8219326, 2.3305229]], [[48.8185842, 2.3330875]]]\n",
    "forbu1378 = [[53.3467438, -6.2575819], [53.3467719, -6.2576414], [53.3467418, -6.2576384], [53.3467831, -6.2574094], [53.3467757, -6.2572767], [53.3467739, -6.257584], [53.3467683, -6.2574077], [53.346714, -6.2572612], [53.3465712, -6.2574273], [53.3467534, -6.2574061], [53.3466603, -6.2578816], [53.3467584, -6.2580085], [53.3465556, -6.2577282], [53.3467294, -6.2578878]]"
   ]
  },
  {
   "cell_type": "code",
   "execution_count": 12,
   "metadata": {},
   "outputs": [],
   "source": [
    "buredodict = {514: forbu514, 1296: forbu1296, 1378: forbu1378}\n",
    "bcredodict = {}\n",
    "blredodict = {}"
   ]
  },
  {
   "cell_type": "code",
   "execution_count": 13,
   "metadata": {},
   "outputs": [],
   "source": [
    "def cleandata(selectionlist, repairdict):\n",
    "    for index, value in repairdict.items():\n",
    "        selectionlist[index]['nodelist'] = testnodelist(selectionlist[index]['nodelist'], value)\n",
    "    return selectionlist"
   ]
  },
  {
   "cell_type": "code",
   "execution_count": 14,
   "metadata": {
    "scrolled": false
   },
   "outputs": [
    {
     "name": "stderr",
     "output_type": "stream",
     "text": [
      "   [[[48.8186574, 2.3328606], [48.8219296, 2.3305399], [48.8219326, 2.3305229]], [[48.8185842, 2.3330875]]]\n",
      "   [[-21.3412867, 55.491437], [-21.3411172, 55.4916237], [-21.3410765, 55.4915734], [-21.3409724, 55.49143], [-21.34091, 55.4913373], [-21.340846, 55.4912573], [-21.3407704, 55.4912861], [-21.3408304, 55.4913315], [-21.340844, 55.4913683], [-21.3408617, 55.4913881], [-21.3409271, 55.491402], [-21.3410451, 55.4914876], [-21.3409843, 55.4915411], [-21.3410342, 55.4915717], [-21.3410612, 55.4916359], [-21.3410142, 55.4917124], [-21.3409273, 55.4917522], [-21.3408475, 55.4917675], [-21.3407748, 55.491769], [-21.3407321, 55.4917935], [-21.3406964, 55.4917782], [-21.3406708, 55.4917828], [-21.3406252, 55.4917966], [-21.3405853, 55.4917706], [-21.3405454, 55.4917415], [-21.3404827, 55.4917354], [-21.3404528, 55.4917293], [-21.3404285, 55.4917415], [-21.3404186, 55.4917216], [-21.3404186, 55.4916788], [-21.3404247, 55.4915998], [-21.3404889, 55.4915656], [-21.3405425, 55.4915747], [-21.340571, 55.4914842], [-21.3406466, 55.4914814], [-21.3406352, 55.491434], [-21.3406537, 55.4913697], [-21.3407025, 55.4913045], [-21.3403466, 55.4914245], [-21.3403259, 55.4913611], [-21.3403396, 55.4913407], [-21.3403847, 55.4914644], [-21.3403496, 55.491544]]\n",
      "   [[53.3467438, -6.2575819], [53.3467719, -6.2576414], [53.3467418, -6.2576384], [53.3467831, -6.2574094], [53.3467757, -6.2572767], [53.3467739, -6.257584], [53.3467683, -6.2574077], [53.346714, -6.2572612], [53.3465712, -6.2574273], [53.3467534, -6.2574061], [53.3466603, -6.2578816], [53.3467584, -6.2580085], [53.3465556, -6.2577282], [53.3467294, -6.2578878]]\n"
     ]
    }
   ],
   "source": [
    "bounding_university = cleandata(bounding_university,buredodict)\n",
    "bounding_college = cleandata(bounding_college,bcredodict)\n",
    "bounding_local = cleandata(bounding_local,blredodict)"
   ]
  }
 ],
 "metadata": {
  "kernelspec": {
   "display_name": "Python 2",
   "language": "python",
   "name": "python2"
  },
  "language_info": {
   "codemirror_mode": {
    "name": "ipython",
    "version": 2
   },
   "file_extension": ".py",
   "mimetype": "text/x-python",
   "name": "python",
   "nbconvert_exporter": "python",
   "pygments_lexer": "ipython2",
   "version": "2.7.15"
  }
 },
 "nbformat": 4,
 "nbformat_minor": 2
}

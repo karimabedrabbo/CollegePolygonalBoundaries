{
 "cells": [
  {
   "cell_type": "code",
   "execution_count": 1,
   "metadata": {},
   "outputs": [],
   "source": [
    "import json\n",
    "import s2sphere as s2\n",
    "from copy import deepcopy"
   ]
  },
  {
   "cell_type": "code",
   "execution_count": 2,
   "metadata": {},
   "outputs": [],
   "source": [
    "with open('collegeonly.json', 'r', encoding='utf8') as read_file:\n",
    "    collegecells = json.load(read_file)"
   ]
  },
  {
   "cell_type": "code",
   "execution_count": 3,
   "metadata": {},
   "outputs": [],
   "source": [
    "with open('univonly.json', 'r', encoding='utf8') as read_file:\n",
    "    univcells = json.load(read_file)"
   ]
  },
  {
   "cell_type": "code",
   "execution_count": 4,
   "metadata": {},
   "outputs": [],
   "source": [
    "with open('geonames.json', 'r', encoding='utf8') as read_file:\n",
    "    geonames = json.load(read_file)"
   ]
  },
  {
   "cell_type": "code",
   "execution_count": 5,
   "metadata": {},
   "outputs": [],
   "source": [
    "with open('usunivandcollegeindex.json', 'r', encoding='utf8') as read_file:\n",
    "    usindex = json.load(read_file)['elements']"
   ]
  },
  {
   "cell_type": "code",
   "execution_count": null,
   "metadata": {},
   "outputs": [],
   "source": []
  },
  {
   "cell_type": "code",
   "execution_count": null,
   "metadata": {},
   "outputs": [],
   "source": []
  },
  {
   "cell_type": "code",
   "execution_count": null,
   "metadata": {},
   "outputs": [],
   "source": []
  },
  {
   "cell_type": "code",
   "execution_count": 6,
   "metadata": {},
   "outputs": [],
   "source": [
    "def convertToTokenDict(cell_list):\n",
    "    ldict = {}\n",
    "    for element in cell_list:\n",
    "        for token in element['cover16s']:\n",
    "            if token in ldict:\n",
    "                raise ValueError\n",
    "            else:\n",
    "                ldict[token] = element\n",
    "    return ldict"
   ]
  },
  {
   "cell_type": "code",
   "execution_count": 7,
   "metadata": {},
   "outputs": [],
   "source": [
    "univldict = convertToTokenDict(univcells)"
   ]
  },
  {
   "cell_type": "code",
   "execution_count": 8,
   "metadata": {},
   "outputs": [],
   "source": [
    "collegeldict = convertToTokenDict(collegecells)"
   ]
  },
  {
   "cell_type": "code",
   "execution_count": 9,
   "metadata": {
    "scrolled": true
   },
   "outputs": [],
   "source": [
    "len(univcells)"
   ]
  },
  {
   "cell_type": "code",
   "execution_count": 10,
   "metadata": {},
   "outputs": [],
   "source": [
    "len(collegecells)"
   ]
  },
  {
   "cell_type": "code",
   "execution_count": 11,
   "metadata": {},
   "outputs": [],
   "source": [
    "def findspecificcode(namelist):\n",
    "    ftcode = []\n",
    "    for el in namelist:\n",
    "        if el['feature-code'] == 'UNIV':\n",
    "            ftcode.append(el)\n",
    "    return ftcode"
   ]
  },
  {
   "cell_type": "code",
   "execution_count": 12,
   "metadata": {},
   "outputs": [],
   "source": [
    "univonlygeonames = findspecificcode(geonames)"
   ]
  },
  {
   "cell_type": "code",
   "execution_count": 13,
   "metadata": {},
   "outputs": [],
   "source": [
    "len(univonlygeonames)"
   ]
  },
  {
   "cell_type": "code",
   "execution_count": 14,
   "metadata": {},
   "outputs": [],
   "source": [
    "len(usindex)"
   ]
  },
  {
   "cell_type": "code",
   "execution_count": null,
   "metadata": {},
   "outputs": [],
   "source": []
  },
  {
   "cell_type": "code",
   "execution_count": 15,
   "metadata": {},
   "outputs": [],
   "source": [
    "def linkCoordinateToBound(ldicts, namelist, numexpansions=0):\n",
    "    matched = 0\n",
    "    unmatched = 0\n",
    "    matchedindex = []\n",
    "    unmatchedindex = []\n",
    "    def expandTokens(token):\n",
    "        instcell = s2.CellId.from_token(token)\n",
    "        nbrs = set(map(lambda x: x.to_token(), list(instcell.get_edge_neighbors()) + [instcell]))\n",
    "        return nbrs\n",
    "    \n",
    "    for ldict in ldicts:\n",
    "        for ltok in ldict:\n",
    "            if ldict[ltok].get('matched'):\n",
    "                ldict[ltok].pop('matched')\n",
    "    \n",
    "    \n",
    "    for institution in namelist:\n",
    "        insttok = s2.CellId.from_lat_lng(s2.LatLng.from_degrees(float(institution['latitude']), float(institution['longitude']))).parent(16).to_token()\n",
    "        \n",
    "        allnbrs = set([insttok])\n",
    "        allmmbrs = set()\n",
    "        \n",
    "        for expindex in range(0,numexpansions+1):\n",
    "            for celltok in list(allnbrs):\n",
    "                if celltok not in allmmbrs:\n",
    "                    if expindex != numexpansions:\n",
    "                        thenbrs = expandTokens(celltok)\n",
    "                        allnbrs.update(thenbrs)\n",
    "                    allmmbrs.add(celltok)\n",
    "  \n",
    "        somematch = False\n",
    "        for ldict in ldicts:\n",
    "            for exptok in allmmbrs:\n",
    "                coorsbound = ldict.get(exptok)\n",
    "                if coorsbound:\n",
    "                    if ldict[exptok].get('matched'):\n",
    "                        ldict[exptok]['matched'].append(institution)\n",
    "                    else:\n",
    "                        ldict[exptok]['matched'] = [institution]\n",
    "                    somematch = True\n",
    "                    break\n",
    "                    \n",
    "        if somematch:\n",
    "            matchedindex.append(institution)\n",
    "            matched += 1\n",
    "        else:\n",
    "            unmatchedindex.append(institution)\n",
    "            unmatched += 1\n",
    "        \n",
    "    print(matched)\n",
    "    print(unmatched)\n",
    "    return matchedindex, unmatchedindex\n",
    "        "
   ]
  },
  {
   "cell_type": "code",
   "execution_count": 16,
   "metadata": {},
   "outputs": [],
   "source": [
    "matched, unmatched = linkCoordinateToBound([univldict, collegeldict], usindex, numexpansions=2)"
   ]
  },
  {
   "cell_type": "code",
   "execution_count": null,
   "metadata": {},
   "outputs": [],
   "source": []
  },
  {
   "cell_type": "code",
   "execution_count": 18,
   "metadata": {},
   "outputs": [],
   "source": [
    "from nltk.corpus import stopwords\n",
    "import string"
   ]
  },
  {
   "cell_type": "code",
   "execution_count": 19,
   "metadata": {},
   "outputs": [],
   "source": [
    "# import nltk\n",
    "# nltk.download(\"stopwords\")"
   ]
  },
  {
   "cell_type": "code",
   "execution_count": 20,
   "metadata": {},
   "outputs": [],
   "source": [
    "exclude = set(string.punctuation)"
   ]
  },
  {
   "cell_type": "code",
   "execution_count": 21,
   "metadata": {},
   "outputs": [],
   "source": [
    "exclude.update(list(stopwords.words('english')))"
   ]
  },
  {
   "cell_type": "code",
   "execution_count": 22,
   "metadata": {},
   "outputs": [],
   "source": [
    "exclude.add('college')\n",
    "exclude.add('university')"
   ]
  },
  {
   "cell_type": "code",
   "execution_count": 23,
   "metadata": {},
   "outputs": [],
   "source": [
    "exclude.add('')"
   ]
  },
  {
   "cell_type": "code",
   "execution_count": null,
   "metadata": {},
   "outputs": [],
   "source": [
    "thecount = 0\n",
    "for lst in [univcells, collegecells]:\n",
    "    for el in lst:\n",
    "        for nm in unmatched:\n",
    "            splital = [tt for tt in (nm['alias'].lower().split(' ')) if tt not in exclude]\n",
    "            \n",
    "            splitnm = [tt for tt in (nm['institution'].lower().split(' ')) if tt not in exclude]\n",
    "            \n",
    "            splitnm.extend(splital)\n",
    "            \n",
    "            \n",
    "            hhh=[gg.lower() for gg in el['allnames']]\n",
    "            uuu = []\n",
    "            for jgj in hhh:\n",
    "                uuu.extend(jgj.split(' '))\n",
    "            splitallnm = [bb for bb in hhh if bb not in exclude]\n",
    "            \n",
    "            print(splitnm)\n",
    "            print(splitallnm)\n",
    "            print()"
   ]
  },
  {
   "cell_type": "code",
   "execution_count": 31,
   "metadata": {},
   "outputs": [],
   "source": [
    "thecount"
   ]
  },
  {
   "cell_type": "code",
   "execution_count": 32,
   "metadata": {},
   "outputs": [],
   "source": [
    "thecount"
   ]
  },
  {
   "cell_type": "code",
   "execution_count": null,
   "metadata": {},
   "outputs": [],
   "source": []
  },
  {
   "cell_type": "code",
   "execution_count": 25,
   "metadata": {},
   "outputs": [],
   "source": [
    "for el in univcells:\n",
    "    if 'matched' not in el:\n",
    "        print(el['allnames'])\n",
    "        print('\\n')"
   ]
  },
  {
   "cell_type": "code",
   "execution_count": null,
   "metadata": {},
   "outputs": [],
   "source": []
  },
  {
   "cell_type": "code",
   "execution_count": 24,
   "metadata": {},
   "outputs": [],
   "source": [
    "for el in univcells:\n",
    "    if 'matched' in el:\n",
    "        if len(el['matched']) > 1:\n",
    "            print(el['allnames'])\n",
    "            for matchedel in el['matched']:\n",
    "                print(matchedel['institution'])\n",
    "            print('\\n')"
   ]
  },
  {
   "cell_type": "code",
   "execution_count": 55,
   "metadata": {},
   "outputs": [],
   "source": [
    "for name in formalnames:\n",
    "    if 'Berkeley' in name['name'] and 'University of California' in name['name']:\n",
    "        print(name)"
   ]
  },
  {
   "cell_type": "code",
   "execution_count": 59,
   "metadata": {},
   "outputs": [],
   "source": [
    "s2.CellId.from_lat_lng(s2.LatLng.from_degrees(37.87215, -122.25975)).parent(16).to_token()"
   ]
  },
  {
   "cell_type": "code",
   "execution_count": null,
   "metadata": {},
   "outputs": [],
   "source": [
    "exp1 = linkCoordinateToBound(locdict, formalnames, numexpansions=1)"
   ]
  },
  {
   "cell_type": "code",
   "execution_count": null,
   "metadata": {},
   "outputs": [],
   "source": [
    "exp2 = linkCoordinateToBound(locdict, formalnames, numexpansions=2)"
   ]
  },
  {
   "cell_type": "code",
   "execution_count": null,
   "metadata": {},
   "outputs": [],
   "source": []
  },
  {
   "cell_type": "code",
   "execution_count": null,
   "metadata": {},
   "outputs": [],
   "source": []
  },
  {
   "cell_type": "code",
   "execution_count": null,
   "metadata": {},
   "outputs": [],
   "source": []
  },
  {
   "cell_type": "code",
   "execution_count": null,
   "metadata": {},
   "outputs": [],
   "source": [
    "#0expansion:\n",
    "# 74232\n",
    "# 211192\n",
    "\n",
    "#1expansion:\n",
    "# 83678\n",
    "# 201746\n",
    "\n",
    "#3expansions\n",
    "# 99244\n",
    "# 186180"
   ]
  },
  {
   "cell_type": "code",
   "execution_count": 26,
   "metadata": {},
   "outputs": [],
   "source": [
    "b = set()"
   ]
  },
  {
   "cell_type": "code",
   "execution_count": 39,
   "metadata": {},
   "outputs": [],
   "source": [
    "len(locdict)"
   ]
  },
  {
   "cell_type": "code",
   "execution_count": null,
   "metadata": {},
   "outputs": [],
   "source": []
  }
 ],
 "metadata": {
  "kernelspec": {
   "display_name": "Python 3",
   "language": "python",
   "name": "python3"
  },
  "language_info": {
   "codemirror_mode": {
    "name": "ipython",
    "version": 3
   },
   "file_extension": ".py",
   "mimetype": "text/x-python",
   "name": "python",
   "nbconvert_exporter": "python",
   "pygments_lexer": "ipython3",
   "version": "3.7.0"
  }
 },
 "nbformat": 4,
 "nbformat_minor": 2
}
